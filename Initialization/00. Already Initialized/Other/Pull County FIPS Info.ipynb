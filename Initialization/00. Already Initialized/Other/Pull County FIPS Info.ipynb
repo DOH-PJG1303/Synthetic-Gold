{
 "cells": [
  {
   "attachments": {},
   "cell_type": "markdown",
   "metadata": {},
   "source": [
    "# Wrangle Firstnames\n",
    "\n",
    "The purpose of this script is to collect all of the State/FIPS boardwalk data via API.\n",
    "\n",
    "----------------------\n",
    "\n",
    "<p>Author: PJ Gibson</p>\n",
    "<p>Date: 2023-01-23</p>\n",
    "<p>Contact: peter.gibson@doh.wa.gov</p>\n",
    "<p>Other Contact: pjgibson25@gmail.com</p>"
   ]
  },
  {
   "attachments": {},
   "cell_type": "markdown",
   "metadata": {},
   "source": [
    "## 0. Import libs"
   ]
  },
  {
   "cell_type": "code",
   "execution_count": 1,
   "metadata": {},
   "outputs": [],
   "source": [
    "\n",
    "import requests\n",
    "import pandas as pd"
   ]
  },
  {
   "attachments": {},
   "cell_type": "markdown",
   "metadata": {},
   "source": [
    "## 1. Collect Data"
   ]
  },
  {
   "attachments": {},
   "cell_type": "markdown",
   "metadata": {},
   "source": [
    "### 1.1 API Pull"
   ]
  },
  {
   "cell_type": "code",
   "execution_count": 3,
   "metadata": {},
   "outputs": [],
   "source": [
    "# Define URL location\n",
    "url = 'https://www2.census.gov/geo/docs/reference/codes/files/national_county.txt'\n",
    "\n",
    "# Perform API pull and collect the text\n",
    "url_text = requests.get(url).text"
   ]
  },
  {
   "attachments": {},
   "cell_type": "markdown",
   "metadata": {},
   "source": [
    "### 1.2 Data Formatting"
   ]
  },
  {
   "cell_type": "code",
   "execution_count": 4,
   "metadata": {},
   "outputs": [],
   "source": [
    "# Convert to pandas dataframe splitting stuff up\n",
    "df = pd.DataFrame([x.split(',') for x in url_text.split('\\n')], columns = ['STATE','STATEFP','COUNTYFP','COUNTYNAME','CLASSFP'])\n",
    "\n",
    "# Define FIPS\n",
    "df['FIPS'] = df['STATEFP'] + df['COUNTYFP']\n",
    "\n",
    "# Drop unused columns\n",
    "df.drop(columns='CLASSFP',inplace=True)\n",
    "\n",
    "# One row is empty\n",
    "df = df.query('STATE != \"\"')\n",
    "\n",
    "# Convert to stringType\n",
    "df = df.astype(str)"
   ]
  },
  {
   "attachments": {},
   "cell_type": "markdown",
   "metadata": {},
   "source": [
    "## 2. Save"
   ]
  },
  {
   "cell_type": "code",
   "execution_count": 15,
   "metadata": {},
   "outputs": [],
   "source": [
    "# Save out file\n",
    "df.to_csv('../../../SupportingDocs/Housing/03_Complete/county_FIPS_info.csv',header=True,index=False)"
   ]
  },
  {
   "cell_type": "code",
   "execution_count": null,
   "metadata": {},
   "outputs": [],
   "source": []
  }
 ],
 "metadata": {
  "kernelspec": {
   "display_name": "base",
   "language": "python",
   "name": "python3"
  },
  "language_info": {
   "codemirror_mode": {
    "name": "ipython",
    "version": 3
   },
   "file_extension": ".py",
   "mimetype": "text/x-python",
   "name": "python",
   "nbconvert_exporter": "python",
   "pygments_lexer": "ipython3",
   "version": "3.8.5 (default, Sep  3 2020, 21:29:08) [MSC v.1916 64 bit (AMD64)]"
  },
  "orig_nbformat": 4,
  "vscode": {
   "interpreter": {
    "hash": "dba1b3963ecad904c51a72019387ec5f41013f9e1f039a719a278521ef552db8"
   }
  }
 },
 "nbformat": 4,
 "nbformat_minor": 2
}
