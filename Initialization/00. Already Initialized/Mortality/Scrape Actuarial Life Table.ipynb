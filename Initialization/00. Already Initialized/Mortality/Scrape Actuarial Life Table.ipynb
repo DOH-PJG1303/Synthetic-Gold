{
 "cells": [
  {
   "cell_type": "markdown",
   "metadata": {
    "application/vnd.databricks.v1+cell": {
     "cellMetadata": {},
     "inputWidgets": {},
     "nuid": "2b54b966-6a8a-47e0-b0f6-9862ca2d23ec",
     "showTitle": false,
     "title": ""
    }
   },
   "source": [
    "# Mortality - Scrape Actuarial Life Table\n",
    "\n",
    "The purpose of this script is to use an API call to collect information about likelyhood of dying this year by each age.\n",
    "\n",
    "----------------------\n",
    "\n",
    "<p>Author: PJ Gibson</p>\n",
    "<p>Date: 2022-01-19</p>\n",
    "<p>Contact: peter.gibson@doh.wa.gov</p>\n",
    "<p>Other Contact: pjgibson25@gmail.com</p>"
   ]
  },
  {
   "cell_type": "code",
   "execution_count": null,
   "metadata": {
    "application/vnd.databricks.v1+cell": {
     "cellMetadata": {},
     "inputWidgets": {},
     "nuid": "1b21d404-86d7-4dd1-b3ce-afe5bf7b687f",
     "showTitle": false,
     "title": ""
    }
   },
   "outputs": [],
   "source": [
    "import pandas as pd\n",
    "import numpy as np\n",
    "import requests"
   ]
  },
  {
   "cell_type": "markdown",
   "metadata": {
    "application/vnd.databricks.v1+cell": {
     "cellMetadata": {},
     "inputWidgets": {},
     "nuid": "ae3c26c9-3469-43d9-aacc-6014720005c1",
     "showTitle": false,
     "title": ""
    }
   },
   "source": [
    "## 1. Fetch Data"
   ]
  },
  {
   "cell_type": "markdown",
   "metadata": {
    "application/vnd.databricks.v1+cell": {
     "cellMetadata": {},
     "inputWidgets": {},
     "nuid": "a31f2623-c4de-4861-b843-639a9ca7236b",
     "showTitle": false,
     "title": ""
    }
   },
   "source": [
    "### 1.1 API Call"
   ]
  },
  {
   "cell_type": "code",
   "execution_count": null,
   "metadata": {
    "application/vnd.databricks.v1+cell": {
     "cellMetadata": {},
     "inputWidgets": {},
     "nuid": "d663057f-d71d-400c-9ef1-429502add6bd",
     "showTitle": false,
     "title": ""
    }
   },
   "outputs": [],
   "source": [
    "# Define URL\n",
    "url = 'https://www.ssa.gov/oact/STATS/table4c6_2019_TR2021.html'\n",
    "\n",
    "# Perform API Request\n",
    "api_return = requests.get(url)"
   ]
  },
  {
   "cell_type": "markdown",
   "metadata": {
    "application/vnd.databricks.v1+cell": {
     "cellMetadata": {},
     "inputWidgets": {},
     "nuid": "7ee546f9-4815-42ff-b661-66ea1d8bc32d",
     "showTitle": false,
     "title": ""
    }
   },
   "source": [
    "### 1.2 Format Pandas DataFrame"
   ]
  },
  {
   "cell_type": "code",
   "execution_count": null,
   "metadata": {
    "application/vnd.databricks.v1+cell": {
     "cellMetadata": {},
     "inputWidgets": {},
     "nuid": "4628a6d1-52e4-4a97-a196-aef6e49d6621",
     "showTitle": false,
     "title": ""
    }
   },
   "outputs": [],
   "source": [
    "# Convert into pandas dataframe and remove the last row (just annotations)\n",
    "df = pd.read_html(api_return.text)[0][:-1]\n",
    "\n",
    "# Manually define last row of data (when someone hits 120 years old, there being a 100% chance they pass away that year)\n",
    "final_row = pd.DataFrame(np.array([120, 1.0, 0, 0, 1.0, 0, 0])).transpose()\n",
    "final_row.columns = df.columns\n",
    "\n",
    "output_df = pd.concat([df,final_row],ignore_index=True)"
   ]
  },
  {
   "cell_type": "markdown",
   "metadata": {
    "application/vnd.databricks.v1+cell": {
     "cellMetadata": {},
     "inputWidgets": {},
     "nuid": "5fd14044-6c9e-4574-94d5-081583510847",
     "showTitle": false,
     "title": ""
    }
   },
   "source": [
    "## 2. Show Output\n",
    "\n",
    "<b>Important</b>: In our notebook '{project_root}/Functions/Process Functions', our function `spdf_will_die()` function utilizes the output of the cell below.\n",
    "I found it easier to work with the array within the spark UDF because due to the parallel nature of UDFs, we don't want to reread the same .csv file for each row of data the UDF is applied to.\n",
    "Intead, we just manually define a list we'll use within the function."
   ]
  },
  {
   "cell_type": "code",
   "execution_count": null,
   "metadata": {
    "application/vnd.databricks.v1+cell": {
     "cellMetadata": {},
     "inputWidgets": {},
     "nuid": "3f12aba1-e45f-4b85-9d08-5a6de5af7ea4",
     "showTitle": false,
     "title": ""
    }
   },
   "outputs": [],
   "source": [
    "# Previously worked, but annoyingly difficult to remove double spaces in multi-index columns.  Varying output when performing API request\n",
    "# output_df[[('Exact  age','Exact  age'),('Male', 'Death  probability a'),('Female','Death  probability a')]].to_numpy()\n",
    "\n",
    "# Show the \n",
    "output_df.iloc[:,[0,1,4]].to_numpy()"
   ]
  },
  {
   "cell_type": "code",
   "execution_count": null,
   "metadata": {},
   "outputs": [],
   "source": []
  }
 ],
 "metadata": {
  "application/vnd.databricks.v1+notebook": {
   "dashboards": [],
   "language": "python",
   "notebookMetadata": {
    "pythonIndentUnit": 2
   },
   "notebookName": "Scrape Actuarial Life Table",
   "widgets": {}
  },
  "kernelspec": {
   "display_name": "base",
   "language": "python",
   "name": "python3"
  },
  "language_info": {
   "codemirror_mode": {
    "name": "ipython",
    "version": 3
   },
   "file_extension": ".py",
   "mimetype": "text/x-python",
   "name": "python",
   "nbconvert_exporter": "python",
   "pygments_lexer": "ipython3",
   "version": "3.8.5"
  },
  "vscode": {
   "interpreter": {
    "hash": "dba1b3963ecad904c51a72019387ec5f41013f9e1f039a719a278521ef552db8"
   }
  }
 },
 "nbformat": 4,
 "nbformat_minor": 0
}
