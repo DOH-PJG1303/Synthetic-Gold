{
 "cells": [
  {
   "cell_type": "markdown",
   "metadata": {},
   "source": [
    "# Calc Number of Births by Mothers Age by Year by State\n",
    "\n",
    "The purpose of this script is to take data captured in both previous notebooks and merge it into one dataset.\n",
    "We'll be able to see how many people are born to each state by the age of their mothers by every year.\n",
    "\n",
    "----------------------\n",
    "\n",
    "<p>Author: PJ Gibson</p>\n",
    "<p>Date: 2022-12-22</p>\n",
    "<p>Contact: peter.gibson@doh.wa.gov</p>\n",
    "<p>Other Contact: pjgibson25@gmail.com</p>"
   ]
  },
  {
   "cell_type": "markdown",
   "metadata": {},
   "source": [
    "## 0. Import libraries, fpaths"
   ]
  },
  {
   "cell_type": "code",
   "execution_count": null,
   "metadata": {},
   "outputs": [],
   "source": [
    "import pandas as pd\n",
    "import numpy as np\n",
    "import matplotlib.pyplot as plt\n",
    "\n",
    "# Specify [relative] fpaths\n",
    "fpath_birthComplete = '../../../SupportingDocs/Births/03_Complete'"
   ]
  },
  {
   "cell_type": "markdown",
   "metadata": {},
   "source": [
    "## 1. Read in Data"
   ]
  },
  {
   "cell_type": "code",
   "execution_count": null,
   "metadata": {},
   "outputs": [],
   "source": [
    "# Read in data representing percent of births each year for each child bearing age 18-44 inclusive\n",
    "df_BirthingAge = pd.read_csv(f'{fpath_birthComplete}/ProbaBirthByMotherAgeByYear.csv')\\\n",
    "                   .sort_values('Year')\n",
    "\n",
    "# Read in data representing percent of births each year for each child bearing age 18-44 inclusive\n",
    "df_VitalStats = pd.read_csv(f'{fpath_birthComplete}/VitalStats_byYear_byState.csv')"
   ]
  },
  {
   "cell_type": "markdown",
   "metadata": {},
   "source": [
    "## 2. Combine and Format"
   ]
  },
  {
   "cell_type": "code",
   "execution_count": null,
   "metadata": {},
   "outputs": [],
   "source": [
    "# Merge our data\n",
    "df = df_VitalStats[['Year','State','Births']].merge(df_BirthingAge, on='Year',how='inner')\n",
    "\n",
    "# When we round the number of births for each age, we have the potential to miss our total sum by a little.  see below:\n",
    "############# mylist = np.array(df.iloc[:,3:].sum(axis=1)  - df['Births'])\n",
    "#### -0.075: mean of the births difference when using round\n",
    "#### 3.296: std of the births difference when using round\n",
    "# This is acceptable, number of births per year in output always within 10 days of intended\n",
    "for i in range(18,45):\n",
    "    df[f'{i}'] = np.round(df[f'{i}'] * df['Births']).astype(int)\n",
    "    \n",
    "df.drop('Births',axis=1,inplace=True)"
   ]
  },
  {
   "cell_type": "markdown",
   "metadata": {},
   "source": [
    "## 3. Save"
   ]
  },
  {
   "cell_type": "code",
   "execution_count": null,
   "metadata": {},
   "outputs": [],
   "source": [
    "df.to_csv(f'{fpath_birthComplete}/DesiredBirthsByYearByAgeByState.csv',\n",
    "          header=True,\n",
    "          index = False)"
   ]
  },
  {
   "cell_type": "markdown",
   "metadata": {},
   "source": [
    "## Extras...\n",
    "\n",
    "In my currently unclean version of the storage structure, I have access to simulation data/supporting docs for Washington State specifically.\n",
    "Since that version, I've expanded to applying this to other states (current version).\n",
    "\n",
    "This cell below allows us to see how the number of births differ by year for each version for Washington state."
   ]
  },
  {
   "cell_type": "code",
   "execution_count": null,
   "metadata": {},
   "outputs": [],
   "source": [
    "# # Read in previous project version of Washington State desired births by age for comparison\n",
    "# df_WA = pd.read_csv(f'{fpath_birthComplete}/DesiredBirthsByYearByAge.csv')\n",
    "\n",
    "# # Filter to data on Washington from newer project version\n",
    "# df_WAnew = df.query('(State == \"Washington\") & (Year < 2023)').drop('State',axis=1).reset_index(drop=True)\n",
    "\n",
    "# # Calculate differences between two datasets, format\n",
    "\n",
    "# differences = (df_WAnew - df_WA).drop(['Year','year'], axis=1)\n",
    "# differences['Year'] = df_WAnew.Year\n",
    "# differences['Year'] = differences['Year'].astype(pd.Int64Dtype())\n",
    "# differences.set_index('Year', inplace=True)\n",
    "# differences.dropna(how='all', inplace=True)\n",
    "\n",
    "# # Plotting\n",
    "\n",
    "# fig = plt.figure(figsize=(9,7))\n",
    "# differences.sum(axis=1).plot()\n",
    "# plt.hlines(y=0, xmin=1920, xmax=2021, color='k', linestyle='--')\n",
    "# plt.suptitle('Washington State')\n",
    "# plt.title('Difference in Births between version 1 and version 0')\n",
    "# plt.xlabel('Year')\n",
    "# plt.ylabel('Difference (number) of Births')\n",
    "# plt.show()"
   ]
  },
  {
   "cell_type": "code",
   "execution_count": null,
   "metadata": {},
   "outputs": [],
   "source": []
  }
 ],
 "metadata": {
  "kernelspec": {
   "display_name": "base",
   "language": "python",
   "name": "python3"
  },
  "language_info": {
   "codemirror_mode": {
    "name": "ipython",
    "version": 3
   },
   "file_extension": ".py",
   "mimetype": "text/x-python",
   "name": "python",
   "nbconvert_exporter": "python",
   "pygments_lexer": "ipython3",
   "version": "3.8.5"
  },
  "vscode": {
   "interpreter": {
    "hash": "dba1b3963ecad904c51a72019387ec5f41013f9e1f039a719a278521ef552db8"
   }
  }
 },
 "nbformat": 4,
 "nbformat_minor": 4
}
