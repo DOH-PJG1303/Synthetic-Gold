{
 "cells": [
  {
   "cell_type": "markdown",
   "metadata": {
    "application/vnd.databricks.v1+cell": {
     "cellMetadata": {},
     "inputWidgets": {},
     "nuid": "39941df5-9c43-491c-b88c-41b8e331046a",
     "showTitle": false,
     "title": ""
    }
   },
   "source": [
    "# get-recent-migration-stats\n",
    "\n",
    "The purpose of this script is to wrangle some of the data we have on state-to-state migration and foreign immigration from the census from 2005-2019.\n",
    "\n",
    "While it isn't currently used, it could be incorporated in a later version to add complexities around state-to-state migration or foreign immigration for record-linkage purposes.\n",
    "\n",
    "----------------------\n",
    "\n",
    "<p>Author: PJ Gibson</p>\n",
    "<p>Date: 2022-12-22</p>\n",
    "<p>Contact: peter.gibson@doh.wa.gov</p>\n",
    "<p>Other Contact: pjgibson25@gmail.com</p>"
   ]
  },
  {
   "cell_type": "markdown",
   "metadata": {
    "application/vnd.databricks.v1+cell": {
     "cellMetadata": {},
     "inputWidgets": {},
     "nuid": "6889fc98-01a2-4398-914f-9bb515ddd334",
     "showTitle": false,
     "title": ""
    }
   },
   "source": [
    "## 0. Import libraries, define fpaths"
   ]
  },
  {
   "cell_type": "code",
   "execution_count": null,
   "metadata": {
    "application/vnd.databricks.v1+cell": {
     "cellMetadata": {},
     "inputWidgets": {},
     "nuid": "abec89ad-66fd-43af-9182-ac4366786c09",
     "showTitle": false,
     "title": ""
    }
   },
   "outputs": [],
   "source": [
    "import pandas as pd\n",
    "import numpy as np\n",
    "import os\n",
    "import matplotlib.pyplot as plt\n",
    "import re\n",
    "from pandas.errors import SettingWithCopyWarning\n",
    "import warnings\n",
    "\n",
    "warnings.simplefilter(action=\"ignore\", category=SettingWithCopyWarning)"
   ]
  },
  {
   "cell_type": "code",
   "execution_count": null,
   "metadata": {
    "application/vnd.databricks.v1+cell": {
     "cellMetadata": {},
     "inputWidgets": {},
     "nuid": "137761a7-29d3-4dda-9bd7-a91f0aac6f18",
     "showTitle": false,
     "title": ""
    }
   },
   "outputs": [],
   "source": [
    "fpath_migration = '../../../SupportingDocs/State-to-State-Migration'"
   ]
  },
  {
   "cell_type": "markdown",
   "metadata": {
    "application/vnd.databricks.v1+cell": {
     "cellMetadata": {},
     "inputWidgets": {},
     "nuid": "0c7c136a-2b2a-48dd-aaa7-2992bc4fe9a3",
     "showTitle": false,
     "title": ""
    }
   },
   "source": [
    "## 1. Define functions\n",
    "\n",
    "The functions below serve to process different types of migration data taken from the census.\n",
    "See the [link here](https://www.census.gov/data/tables/time-series/demo/geographic-mobility/state-to-state-migration.html) to that data\n",
    "\n",
    "We define two seperate functions since the data formatting changes at the year 2010, so the two versions must be wrangled in different ways.\n",
    "\n",
    "In the earliest iteration of this project, migration is ignored, but having the data present is never a bad thing for future iterations."
   ]
  },
  {
   "cell_type": "markdown",
   "metadata": {
    "application/vnd.databricks.v1+cell": {
     "cellMetadata": {},
     "inputWidgets": {},
     "nuid": "523526c3-2c36-4314-be8e-3cf81db5d0d4",
     "showTitle": false,
     "title": ""
    }
   },
   "source": [
    "### 1.1 Formatting prior to 2010"
   ]
  },
  {
   "cell_type": "code",
   "execution_count": null,
   "metadata": {
    "application/vnd.databricks.v1+cell": {
     "cellMetadata": {},
     "inputWidgets": {},
     "nuid": "5b66a9c4-6e72-4a36-9acb-d1f2b7b04611",
     "showTitle": false,
     "title": ""
    }
   },
   "outputs": [],
   "source": [
    "def extract_info_format_pre2010(year, fpath):\n",
    "    '''\n",
    "    (Python language)\n",
    "  \n",
    "    Extracts relevant data from our census migration files for years leading up to 2010 (exclusive)\n",
    "  \n",
    "    Parameters\n",
    "    --------------------------------------------\n",
    "    year -- string, year that we want data for\n",
    "    fpath -- string, full filepath to data location\n",
    "    \n",
    "    Outputs\n",
    "    --------------------------------------------\n",
    "    pandas Dataframe\n",
    "    '''\n",
    "    # Define rows to skip for this format\n",
    "    rows_to_skip = [0, 1, 2, 3, 4, 5, 8, 75, 76, 77, 78, 79]\n",
    "\n",
    "    # read data, skipping relevant rows for this type of format\n",
    "    df = pd.read_excel(fpath, skiprows=rows_to_skip)\n",
    "\n",
    "    # Rename state row, drop unnamed columns, drop rows that contain NULL values for specific rows (follows pattern), set index\n",
    "    df.rename(columns={'Unnamed: 0':'CurrentState'}, inplace=True)\n",
    "    df = df[df.columns.drop(list(df.filter(regex='Unnamed')))]\n",
    "    df = df.dropna(subset=['Arizona','CurrentState'], how='any')\n",
    "    df.set_index('CurrentState',inplace=True)\n",
    "\n",
    "    # Define the diagonal, represents people who moved WITHIN that state\n",
    "    df['Diagonal'] = [df.iloc[i,i] for i in np.arange(0,len(df))]\n",
    "\n",
    "    # Sum of all rows within a column minus the diagonal (moved within state) gives number of emigrants per state\n",
    "    emigrants = list(df.iloc[:,:-1].sum(axis=0).to_numpy() - df['Diagonal'].to_numpy())\n",
    "    df['Total Emigrants'] = emigrants\n",
    "\n",
    "    # Sum of all columns within a row minus the diagonal (moved within state) gives number of immigrants per state\n",
    "    df['Domestic Immigrants'] = df.sum(axis=1) - df['Diagonal']\n",
    "\n",
    "    # Format index, copy dataframe key columns\n",
    "    df.reset_index(inplace=True)\n",
    "    sub_df = df.copy([['CurrentState','Domestic Immigrants','Total Emigrants']])\n",
    "\n",
    "    # Define null columns for output, unavailable data given this style of formatting\n",
    "    sub_df['Foreign Immigrants'] = np.nan\n",
    "    sub_df['Population Retained'] = np.nan # Population retained impossible to determine; diagonal represents internal moves within state, not actual population retained including non-movers\n",
    "    sub_df['Assumed Population'] = np.nan # Assumed population impossible to determine given the available variables\n",
    "\n",
    "    # Define total immigrants (assumed to be same as domestic given our available data), also current year\n",
    "    sub_df['Total Immigrants'] = sub_df['Domestic Immigrants']\n",
    "    sub_df['Year'] = year\n",
    "\n",
    "    cols_to_save = ['CurrentState', 'Year', 'Population Retained', 'Domestic Immigrants',\n",
    "       'Foreign Immigrants', 'Total Immigrants', 'Total Emigrants',\n",
    "       'Assumed Population']\n",
    "\n",
    "    # Return our desired output dataframe\n",
    "    return sub_df[cols_to_save]    "
   ]
  },
  {
   "cell_type": "markdown",
   "metadata": {
    "application/vnd.databricks.v1+cell": {
     "cellMetadata": {},
     "inputWidgets": {},
     "nuid": "70793286-5d5c-405c-a990-0ad873e3de15",
     "showTitle": false,
     "title": ""
    }
   },
   "source": [
    "### 1.2 Formatting 2010 and forward"
   ]
  },
  {
   "cell_type": "code",
   "execution_count": null,
   "metadata": {
    "application/vnd.databricks.v1+cell": {
     "cellMetadata": {},
     "inputWidgets": {},
     "nuid": "1393bb3e-9a99-4d98-ab34-ba9121762d47",
     "showTitle": false,
     "title": ""
    }
   },
   "outputs": [],
   "source": [
    "def extract_info_format_post2010(year, fpath):\n",
    "    '''\n",
    "    (Python language)\n",
    "  \n",
    "    Extracts relevant data from our census migration files for years after 2010 (inclusive)\n",
    "  \n",
    "    Parameters\n",
    "    --------------------------------------------\n",
    "    year -- string, year that we want data for\n",
    "    fpath -- string, full filepath to data location\n",
    "    \n",
    "    Outputs\n",
    "    --------------------------------------------\n",
    "    pandas Dataframe\n",
    "    '''\n",
    "    # Define rows to skip for this format\n",
    "    rows_to_skip = [0, 1, 2, 3, 4, 5, 8, 43, 44, 45, 46, 47, 78, 79, 80, 81, 82, 83, 84, 85, 86, 87, 88, 89]\n",
    "    \n",
    "    # Read in data\n",
    "    df = pd.read_excel(fpath, skiprows=rows_to_skip)\n",
    "    \n",
    "    # Rename relevant rows\n",
    "    df.rename(columns={'Unnamed: 0':'CurrentState',\n",
    "                       'Unnamed: 5':'Diagonal1',\n",
    "                       'Unnamed: 3':'Diagonal2',\n",
    "                       'Total.1':'Foreign Immigrants'}, inplace=True)\n",
    "    \n",
    "    # Determine \"population retained\" -> people who do not move + people who move internally within state\n",
    "    df['Diagonal'] = df['Diagonal1'] + df['Diagonal2']\n",
    "    \n",
    "    # Drop columns we don't care about and rows that don't contain any information on state data\n",
    "    df = df[df.columns.drop(list(df.filter(regex='Unnamed')))]\n",
    "    cols_to_drop = ['Puerto Rico','U.S. Island Area','Foreign Country','Foreign Country4','Diagonal1','Diagonal2']\n",
    "    df.drop(columns=cols_to_drop, inplace=True, errors='ignore')\n",
    "    df = df.dropna(subset=['CurrentState'], how='any')\n",
    "    \n",
    "    # Drop data non state specific - all of united states\n",
    "    df = df.query('(CurrentState != \"United States2\")&(CurrentState != \"United States1\")')\n",
    "    \n",
    "    # The diagonal, people who were in same state 1 year ago, is NULL.  Fill it with the proper information\n",
    "    for column in df.columns:\n",
    "        df.loc[:,column] = df[column].fillna(df['Diagonal'])\n",
    "\n",
    "    \n",
    "    # # Show that the \"Total\" column truley reflects the sum of people who had a different state of residence 1 year ago\n",
    "    # df.iloc[:,2:-2].sum(axis=1) - df['Diagonal'] == df.Total\n",
    "    \n",
    "    # Sum of all rows within a column (exclude a couple columns) minus the diagonal (moved within state) gives number of emigrants per state\n",
    "    emigrants = list(df.iloc[:-1,2:-2].sum(axis=0).to_numpy() - df.iloc[:-1,:]['Diagonal'].to_numpy())\n",
    "    emigrants.extend([np.nan]) #extend for puerto rico\n",
    "    df.loc[:,'Total Emigrants'] = emigrants\n",
    "    \n",
    "    # Copy important rows to seperate dataframe, rename columns\n",
    "    sub_df = df.copy()[['CurrentState','Total','Total Emigrants','Foreign Immigrants','Diagonal']]\n",
    "    sub_df.rename(columns={'Diagonal':'Population Retained',\n",
    "                           'Total':'Domestic Immigrants'}, inplace=True)\n",
    "    \n",
    "    # Calculate total immigrants, assumed population, and provide year\n",
    "    sub_df['Total Immigrants'] = sub_df['Domestic Immigrants'] + sub_df['Foreign Immigrants']\n",
    "    sub_df['Assumed Population'] = sub_df['Population Retained'] + sub_df['Total Immigrants'] - sub_df['Total Emigrants']\n",
    "    sub_df['Year'] = current_year\n",
    "\n",
    "    cols_to_save = ['CurrentState', 'Year', 'Population Retained', 'Domestic Immigrants',\n",
    "       'Foreign Immigrants', 'Total Immigrants', 'Total Emigrants',\n",
    "       'Assumed Population']\n",
    "    \n",
    "    # Return proper cols\n",
    "    return sub_df[cols_to_save]"
   ]
  },
  {
   "cell_type": "markdown",
   "metadata": {
    "application/vnd.databricks.v1+cell": {
     "cellMetadata": {},
     "inputWidgets": {},
     "nuid": "e74004e8-1611-4497-b770-9dfdcc2538fb",
     "showTitle": false,
     "title": ""
    }
   },
   "source": [
    "## 2. Load, wrangle data\n",
    "\n",
    "Note again, this data was captured from the census [linked here](https://www.census.gov/data/tables/time-series/demo/geographic-mobility/state-to-state-migration.html)"
   ]
  },
  {
   "cell_type": "code",
   "execution_count": null,
   "metadata": {
    "application/vnd.databricks.v1+cell": {
     "cellMetadata": {},
     "inputWidgets": {},
     "nuid": "ea14537e-4bcd-4e6d-9f90-f41923e3e306",
     "showTitle": false,
     "title": ""
    }
   },
   "outputs": [],
   "source": [
    "# Check folder contents\n",
    "contents_folder = os.listdir(f'{fpath_migration}/01_Raw')\n",
    "\n",
    "# Initialize empty list for output\n",
    "df_outputs = []\n",
    "\n",
    "# Looping through folder contents...\n",
    "for i in np.arange(0,len(contents_folder)):\n",
    "    \n",
    "    # Determine current year and columns output at the end.\n",
    "    current_year = re.search('\\d{4}',contents_folder[i])[0]\n",
    "    \n",
    "    # Different years have different formats, split at the year 2010, so for all years before 2010...\n",
    "    if (current_year < '2010'):\n",
    "        \n",
    "        # Extract data using first formatting function\n",
    "        df = extract_info_format_pre2010(year=current_year, fpath=f'{fpath_migration}/01_Raw/{contents_folder[i]}')\n",
    "        \n",
    "        # Append to list of dataframes\n",
    "        df_outputs.append(df)\n",
    "\n",
    "    else:\n",
    "    \n",
    "        # Extract data using second formatting function\n",
    "        df = extract_info_format_post2010(year=current_year, fpath=f'{fpath_migration}/01_Raw/{contents_folder[i]}')\n",
    "        \n",
    "        # Append to list of dataframes\n",
    "        df_outputs.append(df)\n",
    "        \n",
    "# Concat all of the data\n",
    "output = pd.concat(df_outputs)"
   ]
  },
  {
   "cell_type": "markdown",
   "metadata": {
    "application/vnd.databricks.v1+cell": {
     "cellMetadata": {},
     "inputWidgets": {},
     "nuid": "ab095056-9b9d-4a8d-8017-4b5b95145c81",
     "showTitle": false,
     "title": ""
    }
   },
   "source": [
    "## 3. Save"
   ]
  },
  {
   "cell_type": "code",
   "execution_count": null,
   "metadata": {
    "application/vnd.databricks.v1+cell": {
     "cellMetadata": {},
     "inputWidgets": {},
     "nuid": "0b71d9e3-c98f-4856-b474-dc1714948ce4",
     "showTitle": false,
     "title": ""
    }
   },
   "outputs": [],
   "source": [
    "output.to_csv(f'{fpath_migration}/02_Wrangled/StateMigrationData.csv', index=False, header=True)"
   ]
  },
  {
   "cell_type": "code",
   "execution_count": null,
   "metadata": {},
   "outputs": [],
   "source": []
  }
 ],
 "metadata": {
  "application/vnd.databricks.v1+notebook": {
   "dashboards": [],
   "language": "python",
   "notebookMetadata": {
    "pythonIndentUnit": 2
   },
   "notebookName": "01. get-recent-migration-stats",
   "widgets": {}
  },
  "kernelspec": {
   "display_name": "base",
   "language": "python",
   "name": "python3"
  },
  "language_info": {
   "codemirror_mode": {
    "name": "ipython",
    "version": 3
   },
   "file_extension": ".py",
   "mimetype": "text/x-python",
   "name": "python",
   "nbconvert_exporter": "python",
   "pygments_lexer": "ipython3",
   "version": "3.8.5"
  },
  "vscode": {
   "interpreter": {
    "hash": "dba1b3963ecad904c51a72019387ec5f41013f9e1f039a719a278521ef552db8"
   }
  }
 },
 "nbformat": 4,
 "nbformat_minor": 0
}
