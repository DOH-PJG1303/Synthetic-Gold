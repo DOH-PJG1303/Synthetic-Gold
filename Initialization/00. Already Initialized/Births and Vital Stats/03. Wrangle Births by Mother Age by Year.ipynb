{
 "cells": [
  {
   "cell_type": "markdown",
   "metadata": {},
   "source": [
    "# Wrangle Births by Mother Age by Year\n",
    "\n",
    "The purpose of this script is to take data on breakdown of births by Mother's age in Michigan.\n",
    "We want to see what percent of all births should belong to each age for each year.\n",
    "We assume that this Michigan data can be extrapolated to the rest of the United States.\n",
    "This data is hard to come by, so the Michigan data is rather golden.\n",
    "\n",
    "Michigan births by Mother's age raw data [linked here](https://vitalstats.michigan.gov/osr/natality/Tab4.4.asp)\n",
    "\n",
    "Note that the data has been adjusted so that \n",
    "\n",
    "----------------------\n",
    "\n",
    "<p>Author: PJ Gibson</p>\n",
    "<p>Date: 2022-12-22</p>\n",
    "<p>Contact: peter.gibson@doh.wa.gov</p>\n",
    "<p>Other Contact: pjgibson25@gmail.com</p>\n"
   ]
  },
  {
   "cell_type": "markdown",
   "metadata": {},
   "source": [
    "## 0. Import libs, define fpaths"
   ]
  },
  {
   "cell_type": "code",
   "execution_count": null,
   "metadata": {},
   "outputs": [],
   "source": [
    "import pandas as pd\n",
    "import numpy as np\n",
    "import requests\n",
    "\n",
    "# Specify [relative] fpaths\n",
    "fpath_birthWrangled = '../../../SupportingDocs/Births/02_Wrangled'\n",
    "fpath_birthComplete = '../../../SupportingDocs/Births/03_Complete'"
   ]
  },
  {
   "cell_type": "markdown",
   "metadata": {},
   "source": [
    "## 1. API Query"
   ]
  },
  {
   "cell_type": "markdown",
   "metadata": {},
   "source": [
    "### 1.1 Perform Query, Read table"
   ]
  },
  {
   "cell_type": "code",
   "execution_count": null,
   "metadata": {},
   "outputs": [],
   "source": [
    "url = 'https://vitalstats.michigan.gov/osr/natality/Tab4.4.asp'\n",
    "html = requests.get(url).content\n",
    "df_MI = pd.read_html(html, skiprows=1,header=0)[0]"
   ]
  },
  {
   "cell_type": "markdown",
   "metadata": {},
   "source": [
    "### 1.2 Wrangle Data"
   ]
  },
  {
   "cell_type": "code",
   "execution_count": null,
   "metadata": {},
   "outputs": [],
   "source": [
    "# Drop null rows\n",
    "df_MI = df_MI.dropna(subset=['Year'])\n",
    "\n",
    "# Make year an int\n",
    "df_MI['Year'] = df_MI['Year'].astype(int)\n",
    "\n",
    "# Remove births from 10-17 years old inclusive. Param set birthing age >= 18\n",
    "df_MI['15-19'] = df_MI['15-19'] + df_MI['10-14']\n",
    "df_MI.rename(columns={'15-19':'18-19'}, inplace=True)\n",
    "\n",
    "# Remove 45+ births. Param set birthing age <= 44\n",
    "df_MI['40-44'] = df_MI['40-44']+df_MI['45+']\n",
    "\n",
    "# Drop unused columns\n",
    "df_MI.drop(['10-14','Total  Fertility  Rate','45+'],axis=1,inplace=True)\n",
    "\n",
    "# Sort values by Year\n",
    "df_MI.sort_values('Year',inplace=True)"
   ]
  },
  {
   "cell_type": "markdown",
   "metadata": {},
   "source": [
    "#### 1.2.1 Extend Birthing Data\n",
    "\n",
    "We're only using this data to reflect what percent of births in a given year belong to specific ages/age ranges.\n",
    "Since the data we have here ends in 2021, we'll extend it to 2025 assuming that the breakdown for those unmapped years is similar (the exact same as) to 2021."
   ]
  },
  {
   "cell_type": "code",
   "execution_count": null,
   "metadata": {},
   "outputs": [],
   "source": [
    "# Find the most recent year.  At the time of running this, it was 2021\n",
    "year_most_recent = df_MI.iloc[-1]['Year']\n",
    "\n",
    "# Get years between most recent year + 1 and 2025 inclusive\n",
    "missing_years = np.arange(year_most_recent + 1, 2026 )\n",
    "\n",
    "# Make a dataframe that's just the last row of data with the number of rows we desire to reach 2025\n",
    "new_rows = pd.concat([df_MI.iloc[-1:,:]] * len(missing_years))\n",
    "\n",
    "# Edit the \"Year\" column to reflect those missing\n",
    "new_rows['Year'] = missing_years.astype(int)\n",
    "\n",
    "# Append new rows to existing dataframe\n",
    "df_MI = pd.concat([df_MI, new_rows], ignore_index=True)"
   ]
  },
  {
   "cell_type": "markdown",
   "metadata": {},
   "source": [
    "### 1.3 Save for viewing/record"
   ]
  },
  {
   "cell_type": "code",
   "execution_count": null,
   "metadata": {},
   "outputs": [],
   "source": [
    "df_MI.to_csv(f'{fpath_birthWrangled}/michigan_yearly_births_by_mothers_age.csv',index=False,header=True)"
   ]
  },
  {
   "cell_type": "markdown",
   "metadata": {},
   "source": [
    "## 2. Reread/format"
   ]
  },
  {
   "cell_type": "code",
   "execution_count": null,
   "metadata": {},
   "outputs": [],
   "source": [
    "# Read\n",
    "df = pd.read_csv(f'{fpath_birthWrangled}/michigan_yearly_births_by_mothers_age.csv')\n",
    "\n",
    "# Set index, define columns\n",
    "df.set_index('Year', inplace=True)\n",
    "AgeRange_cols = df.columns\n",
    "\n",
    "# Normalize\n",
    "df = df.div(df.sum(axis=1), axis=0) \n",
    "\n",
    "# Get year on the outside\n",
    "df = df.reset_index()"
   ]
  },
  {
   "cell_type": "markdown",
   "metadata": {},
   "source": [
    "## 3. Wrangle data"
   ]
  },
  {
   "cell_type": "code",
   "execution_count": null,
   "metadata": {},
   "outputs": [],
   "source": [
    "output = []\n",
    "\n",
    "# For each of the age-range columns\n",
    "for col in AgeRange_cols:\n",
    "    \n",
    "    # Define minimum age in column age range\n",
    "    range_min = int(col.split('-')[0])\n",
    "    \n",
    "    # Define maximum age in column age range\n",
    "    range_max = int(col.split('-')[1])\n",
    "    \n",
    "    # Get a list of all ages within the range\n",
    "    range_ages = np.arange(range_min, range_max + 1)\n",
    "    \n",
    "    for age in range_ages:\n",
    "    \n",
    "        # Caclulate the number of births we would want to see to at each individual age within age range.  Equal probability within range (looks like step-wise function)\n",
    "        ys = list(df[col] / len(range_ages))\n",
    "        \n",
    "        outputme = [age]\n",
    "        outputme.extend(ys)\n",
    "        \n",
    "        # Append new column name to our output_cols\n",
    "        output.append(outputme)\n",
    "        \n",
    "# Save to dataframe with proper columns, shape, index\n",
    "df_output = pd.DataFrame(output).set_index(0).transpose()\n",
    "df_output.reset_index(drop=True, inplace=True)\n",
    "\n",
    "# Tack on the df.year column and we're set!\n",
    "final_output = pd.merge(df.Year, df_output, how='inner', on=None, left_index=True, right_index=True)"
   ]
  },
  {
   "cell_type": "markdown",
   "metadata": {},
   "source": [
    "## 4. Save!"
   ]
  },
  {
   "cell_type": "code",
   "execution_count": null,
   "metadata": {},
   "outputs": [],
   "source": [
    "final_output.to_csv(f'{fpath_birthComplete}/ProbaBirthByMotherAgeByYear.csv',index=False,header=True)"
   ]
  },
  {
   "cell_type": "code",
   "execution_count": null,
   "metadata": {},
   "outputs": [],
   "source": []
  }
 ],
 "metadata": {
  "kernelspec": {
   "display_name": "base",
   "language": "python",
   "name": "python3"
  },
  "language_info": {
   "codemirror_mode": {
    "name": "ipython",
    "version": 3
   },
   "file_extension": ".py",
   "mimetype": "text/x-python",
   "name": "python",
   "nbconvert_exporter": "python",
   "pygments_lexer": "ipython3",
   "version": "3.8.5"
  },
  "vscode": {
   "interpreter": {
    "hash": "dba1b3963ecad904c51a72019387ec5f41013f9e1f039a719a278521ef552db8"
   }
  }
 },
 "nbformat": 4,
 "nbformat_minor": 4
}
