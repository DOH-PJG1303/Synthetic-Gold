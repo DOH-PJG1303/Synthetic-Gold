{
 "cells": [
  {
   "cell_type": "markdown",
   "metadata": {},
   "source": [
    "# get-births-by-year-by-state\n",
    "\n",
    "The purpose of this script is to calculate vital stats by year by state from 1914-2025.\n",
    "Output includes:\n",
    "* Year\n",
    "* State\n",
    "* Deaths\n",
    "* MortalityRate\n",
    "* Population\n",
    "* sourceDeaths\n",
    "* NextPopulation\n",
    "* PopulationChange\n",
    "* Population Retained\n",
    "* Domestic Immigrants\n",
    "* Foreign Immigrants\n",
    "* Total Immigrants\n",
    "* Total Emigrants\n",
    "* CrudeBirthRate\n",
    "* Births\n",
    "\n",
    "*data on migration is not available until 2005, so it contains mostly null entries.\n",
    "\n",
    "In order to do this, we combine data from several sources:\n",
    "* Population Sources\n",
    "  * [Census Apportionment Data - population stats in decennial years](https://www.census.gov/data/tables/time-series/dec/popchange-data-text.html)\n",
    "    * {root}/SupportingDocs/Births/01_Raw/apportionment.csv\n",
    "  * Linear approximation for non-decennial years from 1910-1968\n",
    "  * Requested NCHS Population Data from Mortality Data Files\n",
    "    * {root}/SupportingDocs/Births/01_Raw/Deaths*\n",
    "  * Using previous populations & linearly approximated birth/death rates for 2021-2025\n",
    "* Mortality Sources\n",
    "  * Data Manually Gathered from [Census PDFs for 1914-1940](https://www.cdc.gov/nchs/data/vsus/vsrates1900_40.pdf) for each state Mortality Rate\n",
    "    * {root}/SupportingDocs/Births/02_Wrangled/MortalityRates_pt*\n",
    "  * Data Manually Gathered from [Census for 1940-1970](https://www2.census.gov/library/publications/1975/compendia/hist_stats_colonial-1970/hist_stats_colonial-1970p1-chB.pdf) for United States Mortality Rate as a whole.\n",
    "    * {root}/SupportingDocs/Births/02_Wrangled/census-hist-stats-deathrates.csv\n",
    "  * Requested NCHS/CDC Mortality Data Files from 1968-2020\n",
    "    * {root}/SupportingDocs/Births/01_Raw/Deaths*\n",
    "  * Linear approximation for 2021-2025 based on previous 5 year Mortility Rates\n",
    "* Birth Sources\n",
    "  * Requested NCHS/CDC Birth Data Files from 1995-2020.  Mostly used for number of births from 1995-2016.\n",
    "    * {root}/SupportingDocs/Births/01_Raw/Births*\n",
    "  * Crude birth rates from [Gapminder 1800-2015](https://docs.google.com/spreadsheets/d/1QkK8B3EnGoWzcHUmdf0AIU8YHk5LmzbOcsRRKbN9w2Y/pub?gid=1) for all of United States.  Extrapolated to other states from 1914-1995 for simplicity.\n",
    "    * {root}/SupportingDocs/Births/01_Raw/indicator_crude birth_rate.csv\n",
    "  * CDC from 2016-2021.  Mostly used from number of births from 2016-2022\n",
    "    * {root}/SupportingDocs/Births/01_Raw/Natality, 2016-2021 expanded.txt\n",
    "* Migration Sources\n",
    "  * Census data wrangled in previous notebook, [raw data found linked](https://www.census.gov/data/tables/time-series/demo/geographic-mobility/state-to-state-migration.html), wrangled below\n",
    "    * {root}/SupportingDocs/Births/02_Wrangled/StateMigrationData.csv\n",
    "    \n",
    "\n",
    "----------------------\n",
    "\n",
    "<p>Author: PJ Gibson</p>\n",
    "<p>Date: 2022-12-22</p>\n",
    "<p>Contact: peter.gibson@doh.wa.gov</p>\n",
    "<p>Other Contact: pjgibson25@gmail.com</p>"
   ]
  },
  {
   "cell_type": "markdown",
   "metadata": {},
   "source": [
    "# 0. Import Libraries, fpaths"
   ]
  },
  {
   "cell_type": "code",
   "execution_count": null,
   "metadata": {},
   "outputs": [],
   "source": [
    "# IMport libraries we'll use\n",
    "import numpy as np\n",
    "import pandas as pd\n",
    "import numpy.polynomial.polynomial as poly\n",
    "import matplotlib.pyplot as plt\n",
    "\n",
    "# Specify [relative] fpaths\n",
    "fpath_birthRaw = '../../../SupportingDocs/Births/01_Raw'\n",
    "fpath_birthWrangled = '../../../SupportingDocs/Births/02_Wrangled'\n",
    "fpath_birthComplete = '../../../SupportingDocs/Births/03_Complete'\n",
    "fpath_migrationWrangled = '../../../SupportingDocs/State-to-State-Migration/02_Wrangled'\n",
    "\n",
    "# We'll extrapolate births/deaths/population up until this year (inclusive).\n",
    "#### this will be done using a linear approach that takes the average trend of the last 5 years of available data\n",
    "desired_end_year = 2025"
   ]
  },
  {
   "cell_type": "markdown",
   "metadata": {},
   "source": [
    "# 1. Load data\n",
    "\n",
    "## 1.1 Population data\n",
    "\n",
    "Data on population by state by year (every 10 years), wrangle to integer population, and proper cols.\n",
    "\n",
    "Apportionment.csv file downloaded at the [following page](https://www.census.gov/data/tables/time-series/dec/popchange-data-text.html)"
   ]
  },
  {
   "cell_type": "code",
   "execution_count": null,
   "metadata": {},
   "outputs": [],
   "source": [
    "df_populationCtRaw = pd.read_csv(f'{fpath_birthRaw}/apportionment.csv')\n",
    "df_populationCtRaw['Population'] = df_populationCtRaw['Resident Population'].astype(str).replace('\\,','', regex=True).astype(int)\n",
    "df_populationCt_before = df_populationCtRaw.query('(`Geography Type` == \"State\")')\\\n",
    "                                    [['Name','Year','Population']]\\\n",
    "                                    .rename(columns={'Population':'PopulationUN',\n",
    "                                                     'Name':'State'})"
   ]
  },
  {
   "cell_type": "markdown",
   "metadata": {},
   "source": [
    "### 1.1.1 Extrapolate Population by state in non-decennial  years\n",
    "\n",
    "We only have population data for 1910, 1920, 1930, ...\n",
    "\n",
    "but we would like that data for every single year.\n",
    "Using linear approximating, we'll calculate the values for non-decennial years.\n",
    "We could do this approximation several ways including line-fitting to logrithmic or exponential growth but since our data points are fairly close together, I would rather use a linear approximation.\n",
    "\n",
    "Non 1d linear fits would be particularly difficult in approximating population change for the state of West Virginia, which underwent unusual popoulation change throughout it's history."
   ]
  },
  {
   "cell_type": "code",
   "execution_count": null,
   "metadata": {},
   "outputs": [],
   "source": [
    "# Groupby state, ordering by year\n",
    "g = df_populationCt_before.sort_values(['State','Year']).groupby('State')\n",
    "\n",
    "# Initialize output \n",
    "output = []\n",
    "\n",
    "# For each state and it's contents\n",
    "for state, frame in g:\n",
    "    \n",
    "    # Calculate difference between population at year[row] and year[row+1] for all but the last row\n",
    "    population_differences = frame['PopulationUN'][1:].to_numpy() - frame['PopulationUN'][:-1].to_numpy()\n",
    "    \n",
    "    # For every row but the last...\n",
    "    for i in np.arange(0,len(frame)-1):\n",
    "        \n",
    "        # Define starting values and average population change.  Division by 10 assumes data incoming is decennial.\n",
    "        start_year = int(frame.iloc[i]['Year'])\n",
    "        start_pop = int(frame.iloc[i]['PopulationUN'])\n",
    "        avg_pop_change = population_differences[i] / 10\n",
    "        \n",
    "        # Append starting values (already present in data)\n",
    "        output.append( [state, start_year, start_pop] )\n",
    "        \n",
    "        # For every non-decennial year...\n",
    "        for j in np.arange(1,10):\n",
    "            \n",
    "            # Append the linear approximation values\n",
    "            output.append( [state, start_year+int(j), start_pop+(avg_pop_change*j)] )\n",
    "    \n",
    "    # append final year since the for-loop excluded the last row\n",
    "    final_year = int(frame.iloc[-1]['Year'])\n",
    "    final_pop = int(frame.iloc[-1]['PopulationUN'])\n",
    "    output.append( [state, final_year, final_pop] )\n",
    "    \n",
    "# Overwrite our df_populationCt dataframe\n",
    "df_populationCt = pd.DataFrame(output, columns=['State','Year','PopulationUN'])"
   ]
  },
  {
   "cell_type": "markdown",
   "metadata": {},
   "source": [
    "## 1.2 Deaths data\n",
    "\n",
    "### 1.2.1 CDC data\n",
    "\n",
    "The data below was given to me directly by the CDC.\n",
    "It is the only available data by state by year that they had.\n",
    "Previous years require manual data entry."
   ]
  },
  {
   "cell_type": "code",
   "execution_count": null,
   "metadata": {},
   "outputs": [],
   "source": [
    "df_Death1 = pd.read_csv(f'{fpath_birthRaw}/Deaths by Year and State in 1968-1978.txt', delimiter='\\t', skipfooter=10, engine='python')\\\n",
    "               .dropna(subset=['State'],how='any')\n",
    "               \n",
    "df_Death2 = pd.read_csv(f'{fpath_birthRaw}/Deaths-by-Year-and-State-1979-1998.txt', delimiter='\\t', skipfooter=10, engine='python')\\\n",
    "               .dropna(subset=['State'],how='any')\n",
    "               \n",
    "df_Death3 = pd.read_csv(f'{fpath_birthRaw}/Deaths by Year and State in 1999-2020.txt', delimiter='\\t', skipfooter=10, engine='python')\\\n",
    "               .dropna(subset=['State'],how='any')\n",
    "               \n",
    "df_Deaths_nchs = pd.concat([df_Death1,df_Death2,df_Death3])\\\n",
    "                      [['Year','State','Deaths','Crude Rate','Population']]\\\n",
    "                      .rename(columns={'Crude Rate':'MortalityRate'})\n",
    "\n",
    "df_Deaths_nchs['Year'] = df_Deaths_nchs['Year'].astype(int)"
   ]
  },
  {
   "cell_type": "markdown",
   "metadata": {},
   "source": [
    "### 1.2.2 Data manually entered\n",
    "\n",
    "The data below I manually tnered into an excel sheet using census data.\n",
    "It only covers the years 1914-1940.\n",
    "Data source [is linked here](https://www.cdc.gov/nchs/data/vsus/vsrates1900_40.pdf)\n",
    "\n",
    "\n",
    "See {root_dir}/supporting/Births/01_Raw/vitalstats-snapshot-mortalityrates-1914-1940.pdf for the snaphshot that I manually entered into the two csv's below.\n"
   ]
  },
  {
   "cell_type": "code",
   "execution_count": null,
   "metadata": {},
   "outputs": [],
   "source": [
    "df_Mortality1 = pd.read_csv(f'{fpath_birthWrangled}/MortalityRates_pt1.csv')\\\n",
    "                  .rename(columns={'Unnamed: 0':'state'})\\\n",
    "                  .set_index('state')\n",
    "\n",
    "df_Mortality2 = pd.read_csv(f'{fpath_birthWrangled}/MortalityRates_pt2.csv')\\\n",
    "                  .rename(columns={'Unnamed: 0':'state'})\\\n",
    "                  .set_index('state')\n",
    "\n",
    "df_Mortality_manual = df_Mortality1.join(df_Mortality2)"
   ]
  },
  {
   "cell_type": "code",
   "execution_count": null,
   "metadata": {},
   "outputs": [],
   "source": [
    "# Add {'Alaska', 'Hawaii'} to the data.  Puerto rico will not be part of our dataset due to missing CDC wonder data for mortality (see df_Deaths)\n",
    "nullarray = [np.nan]*len(df_Mortality_manual.columns)\n",
    "null_df = pd.DataFrame([nullarray,nullarray],columns=df_Mortality_manual.columns).transpose()\\\n",
    "            .rename(columns={0:'Alaska',1:'Hawaii'})\\\n",
    "            .transpose()\n",
    "\n",
    "# Add them by appending\n",
    "df_Mortality_manual = pd.concat([df_Mortality_manual, null_df],ignore_index=False)"
   ]
  },
  {
   "cell_type": "markdown",
   "metadata": {},
   "source": [
    "### 1.2.3 Data from 1940-1970\n",
    "    \n",
    "There is historical data on vital stats from 1865-1945 as a census publication.\n",
    "It has the US overall crude death rate for all of those years.\n",
    "Note that for the years 1940-1945 this excludes members of armed forces (WWII had a large impact)\n",
    "That resource can be [found linked here](https://www2.census.gov/library/publications/1975/compendia/hist_stats_colonial-1970/hist_stats_colonial-1970p1-chB.pdf)\n",
    "\n",
    "This data lines up with the other census data Averages from 1914-1940 which is consistant.\n",
    "\n",
    "<b>Rationale for not manually entering data from 1940-1968</b>\n",
    "We prefer state-specific information, but after manually entering data for each state for the years 1914-1940 (contained in one PDF), I decided against doing more manual labor.\n",
    "For state-by-state data for the years 1940-1968, the data is stored in census pdf files on a year-by-year basis and does not always contain data on every state.\n",
    "Given the amount of manual data entry work, data missingness, and large number of dated census photoscans I would need to manually parse through, I decided to use United States averages for this range."
   ]
  },
  {
   "cell_type": "code",
   "execution_count": null,
   "metadata": {},
   "outputs": [],
   "source": [
    "df_Mortality_hist_census = pd.read_csv(f'{fpath_birthWrangled}/census-hist-stats-deathrates.csv')\\\n",
    "                             .rename(columns={'Unnamed: 0':'State'})\\\n",
    "                             .set_index('State')\\\n",
    "                             .iloc[:,1:-3]"
   ]
  },
  {
   "cell_type": "markdown",
   "metadata": {},
   "source": [
    "### 1.2.4 Joining Census Data"
   ]
  },
  {
   "cell_type": "code",
   "execution_count": null,
   "metadata": {},
   "outputs": [],
   "source": [
    "# Join our manual state-by-state data entries for census death rates with historical averages to get years 1914-1968\n",
    "df_Mortality_census = df_Mortality_manual.join(df_Mortality_hist_census)"
   ]
  },
  {
   "cell_type": "code",
   "execution_count": null,
   "metadata": {},
   "outputs": [],
   "source": [
    "# Fillna values with the average listed\n",
    "df_Mortality_census = df_Mortality_census.fillna(df_Mortality_census.loc['Average'])"
   ]
  },
  {
   "cell_type": "code",
   "execution_count": null,
   "metadata": {},
   "outputs": [],
   "source": [
    "# Melt wide data into 3 column dataset -> index=State , columns=[year,mortalityrate]\n",
    "df_Mortality_census_melted = pd.melt(df_Mortality_census, ignore_index=False)\\\n",
    "                               .rename(columns={'variable':'Year','value':'MortalityRate'})\n",
    "\n",
    "# Multiply mortality rate by 100 to match other death data\n",
    "df_Mortality_census_melted['MortalityRate'] = df_Mortality_census_melted['MortalityRate'] * 100\n",
    "\n",
    "# Reset index to a column labeled \"State\"\n",
    "df_Mortality_census_melted = df_Mortality_census_melted.reset_index().rename(columns = {'index':'State'})\n",
    "df_Mortality_census_melted['Year'] = df_Mortality_census_melted['Year'].astype(int)\n"
   ]
  },
  {
   "cell_type": "markdown",
   "metadata": {},
   "source": [
    "## 1.3 Birth Data"
   ]
  },
  {
   "cell_type": "code",
   "execution_count": null,
   "metadata": {},
   "outputs": [],
   "source": [
    "df_Births1 = pd.read_csv(f'{fpath_birthRaw}/Births-by-Year-and-State-1995-2002.txt', delimiter='\\t', skipfooter=10, engine='python')\\\n",
    "               .dropna(subset=['State'],how='any')\n",
    "\n",
    "df_Births2 = pd.read_csv(f'{fpath_birthRaw}/Births-by-Year-and-State-2003-2006.txt', delimiter='\\t', skipfooter=10, engine='python')\\\n",
    "               .dropna(subset=['State'],how='any')\n",
    "               \n",
    "df_Births3 = pd.read_csv(f'{fpath_birthRaw}/Births-by-Year-and-State-2007-2020.txt', delimiter='\\t', skipfooter=10, engine='python')\\\n",
    "               .dropna(subset=['State'],how='any')            \n",
    "\n",
    "df_Births = pd.concat([df_Births1,df_Births2,df_Births3])\\\n",
    "              [['Year','State','Births']]"
   ]
  },
  {
   "cell_type": "markdown",
   "metadata": {},
   "source": [
    "## 1.4 Migration Data"
   ]
  },
  {
   "cell_type": "code",
   "execution_count": null,
   "metadata": {},
   "outputs": [],
   "source": [
    "df_Migration = pd.read_csv(f'{fpath_migrationWrangled}/StateMigrationData.csv')"
   ]
  },
  {
   "cell_type": "markdown",
   "metadata": {},
   "source": [
    "## 1.5 Crude Birth Rates"
   ]
  },
  {
   "cell_type": "markdown",
   "metadata": {},
   "source": [
    "### 1.5.1 Extrapolated from 1800-2015\n",
    "\n",
    "Data found [here](https://docs.google.com/spreadsheets/d/1QkK8B3EnGoWzcHUmdf0AIU8YHk5LmzbOcsRRKbN9w2Y/pub?gid=1#) and produced by gapminder.\n"
   ]
  },
  {
   "cell_type": "code",
   "execution_count": null,
   "metadata": {},
   "outputs": [],
   "source": [
    "# read in data\n",
    "df_BirthRates = pd.read_csv(f'{fpath_birthRaw}/indicator_crude birth_rate.csv')\n",
    "\n",
    "# Query to country is united states.  Can also query other american territories, drop index\n",
    "df_BirthRates = df_BirthRates.query('Country == \"United States\"').melt().drop(0)\n",
    "\n",
    "# Rename columns\n",
    "df_BirthRates.columns = ['Year','CrudeBirthRate1']\n",
    "\n",
    "# Convert dtype of year\n",
    "df_BirthRates['Year'] = df_BirthRates['Year'].astype(int)"
   ]
  },
  {
   "cell_type": "markdown",
   "metadata": {},
   "source": [
    "### 1.5.2 CDC from 2016-2021"
   ]
  },
  {
   "cell_type": "code",
   "execution_count": null,
   "metadata": {},
   "outputs": [],
   "source": [
    "# Read in data\n",
    "df_cdc = pd.read_csv(f'{fpath_birthRaw}/Natality, 2016-2021 expanded.txt',delimiter='\\t',usecols=[1,3,5,7])\n",
    "\n",
    "# Redefine columns\n",
    "df_cdc.columns = ['State','Year','Births','CrudeBirthRate2']\n",
    "\n",
    "# Remove rows with na vals\n",
    "df_cdc = df_cdc.dropna(how='any')\n",
    "\n",
    "# Convert dtypes\n",
    "df_cdc['Year'] = df_cdc['Year'].astype(int)\n",
    "\n",
    "# We drop births since they are simply calculated from population and rate, we have both.\n",
    "#### Population in this file exactly matched the source data we extract it from in our output df\n",
    "df_cdc = df_cdc.drop('Births',axis=1)"
   ]
  },
  {
   "cell_type": "markdown",
   "metadata": {},
   "source": [
    "# 2. Wrangle data"
   ]
  },
  {
   "cell_type": "markdown",
   "metadata": {},
   "source": [
    "## 2.1 Combine Death/Population Data"
   ]
  },
  {
   "cell_type": "code",
   "execution_count": null,
   "metadata": {},
   "outputs": [],
   "source": [
    "# Combine mortality rates with population data, rename columns\n",
    "df_Extrapolated = df_Mortality_census_melted.merge(df_populationCt, on=['State','Year'], how='inner')\\\n",
    "                                            .rename(columns={'PopulationUN':'Population'})\n",
    "# Define null column for upcoming concat\n",
    "df_Extrapolated['Deaths'] = np.nan\n",
    "\n",
    "# Combine df_Extrapolated (pre 1968) with df_Deaths_nchs (post 1968)\n",
    "df = pd.concat([df_Deaths_nchs, df_Extrapolated[df_Deaths_nchs.columns]])\n",
    "\n",
    "# Caclulate deaths from mortality rate and population\n",
    "calculated_deaths = np.round((df.Population / 100_000) * df.MortalityRate)\n",
    "\n",
    "# Describe where deaths data came from in source column\n",
    "df['sourceDeaths'] = 'NCHS'\n",
    "df.loc[df.Deaths.isna(), 'sourceDeaths'] = 'calculated from mortality rate and population estimate'\n",
    "df.loc[df.Deaths.isna(), 'Deaths'] = calculated_deaths[df.Deaths.isna()]"
   ]
  },
  {
   "cell_type": "markdown",
   "metadata": {},
   "source": [
    "## 2.2 Calculate next population data"
   ]
  },
  {
   "cell_type": "code",
   "execution_count": null,
   "metadata": {},
   "outputs": [],
   "source": [
    "# Sort values\n",
    "df = df.sort_values(['State','Year'])\n",
    "\n",
    "# Create shifted next population column\n",
    "df['NextPopulation'] = df['Population'].shift(1)\n",
    "\n",
    "# When year = year.max(), the shift compares state1 2020 data with state2 2014 data, make NaN\n",
    "df.loc[df.Year == df.Year.max(), 'NextPopulation'] = np.nan"
   ]
  },
  {
   "cell_type": "markdown",
   "metadata": {},
   "source": [
    "## 2.3 Format output, combine with migration data, birth data"
   ]
  },
  {
   "cell_type": "code",
   "execution_count": null,
   "metadata": {},
   "outputs": [],
   "source": [
    "# Cacluate the population change\n",
    "df['PopulationChange'] = df['NextPopulation']-df['Population']\n",
    "\n",
    "# Add migration data\n",
    "df = df.merge(df_Migration.rename(columns={'CurrentState':'State'}),on=['State','Year'], how='left')\n",
    "\n",
    "# Add crude birth rates\n",
    "df = df.merge(df_BirthRates, on='Year', how='left')\\\n",
    "       .merge(df_cdc, on=['Year','State'], how='left')\n",
    "\n",
    "# Use coalesce functionality to get crude birth rate (US overall pre 2015 inclusive, state specific after)\n",
    "df['CrudeBirthRate'] = df['CrudeBirthRate2'].combine_first(df['CrudeBirthRate1'])\n",
    "df = df.drop(['CrudeBirthRate1','CrudeBirthRate2'], axis=1)\n",
    "\n",
    "# Calc birth rate\n",
    "df['Births'] = (df['Population'] / 1_000) * df['CrudeBirthRate']\n",
    "\n",
    "# Drop assumed population column\n",
    "df = df.drop('Assumed Population', axis=1)\n",
    "\n",
    "# Bring Mortality back down to per 1000\n",
    "df['MortalityRate'] = df['MortalityRate'] / 100"
   ]
  },
  {
   "cell_type": "markdown",
   "metadata": {},
   "source": [
    "## 2.4 Estimate data for upcoming years until desired year"
   ]
  },
  {
   "cell_type": "code",
   "execution_count": null,
   "metadata": {},
   "outputs": [],
   "source": [
    "# Initialize empty output list\n",
    "new_rows = []\n",
    "\n",
    "# For all states\n",
    "for state in np.unique(df['State']):\n",
    "    \n",
    "    # Define dataframe we're working with\n",
    "    subdf = df.query(f'State == \"{state}\"').sort_values('Year')\n",
    "    last5 = subdf[-5:]\n",
    "\n",
    "    # Polyfit (linear, 1 degree) to our mortality rates\n",
    "    coefs_deaths  = poly.polyfit(last5['Year'].astype(float),last5['MortalityRate'].astype(float),1)\n",
    "    ffit_deaths = poly.Polynomial(coefs_deaths)\n",
    "    \n",
    "    # Polyfit (linear, 1 degree) to birth rates\n",
    "    coefs_births = poly.polyfit(last5['Year'].astype(float),last5['CrudeBirthRate'].astype(float),1)\n",
    "    ffit_births = poly.Polynomial(coefs_births)\n",
    "\n",
    "    # Define xs we're defining for\n",
    "    xs = np.arange(subdf.Year.max()+1, desired_end_year+1)\n",
    "    \n",
    "    # Calculate new rates\n",
    "    new_deathrates = ffit_deaths(xs)\n",
    "    new_birthrates = ffit_births(xs)\n",
    "    \n",
    "    # Find out the population for the following year given population, birth, death info\n",
    "    last_row = subdf.iloc[-1]\n",
    "    current_population = last_row['Population'] + last_row['Births'] - last_row['Deaths']\n",
    "    \n",
    "    # For each year using our linear prediction...\n",
    "    for i in np.arange(0,len(xs)):\n",
    "        \n",
    "        # Assign variable to current linearly predicted rate\n",
    "        current_brate = new_birthrates[i]\n",
    "        current_drate = new_deathrates[i]\n",
    "        \n",
    "        # Calcualte number of births and deaths using current population and crude rates\n",
    "        num_deaths = (current_population/1000)*current_drate\n",
    "        num_births = (current_population/1000)*current_brate\n",
    "        \n",
    "        # Label known variables for clarity\n",
    "        current_year = xs[i]\n",
    "        current_state = state\n",
    "        \n",
    "        # Append all useful info to our output list\n",
    "        new_rows.append([current_year,current_state,\n",
    "                       int(num_deaths),current_drate,\n",
    "                       int(np.round(current_population)),\n",
    "                       int(num_births),current_brate,])\n",
    "        \n",
    "        # Calculate next year's population (current in next index of the for-loop) using pop, births, deaths\n",
    "        current_population = current_population + num_births - num_deaths\n",
    "    \n",
    "# Convert to pandas dataframe\n",
    "pd_new_rows = pd.DataFrame(new_rows, columns=['Year','State','Deaths','MortalityRate','Population','Births','CrudeBirthRate'])"
   ]
  },
  {
   "cell_type": "markdown",
   "metadata": {},
   "source": [
    "## 2.5 Combine data"
   ]
  },
  {
   "cell_type": "code",
   "execution_count": null,
   "metadata": {},
   "outputs": [],
   "source": [
    "# Add new rows to final dataframe\n",
    "df = pd.concat([df,pd_new_rows])"
   ]
  },
  {
   "cell_type": "markdown",
   "metadata": {},
   "source": [
    "# 3. Validation"
   ]
  },
  {
   "cell_type": "code",
   "execution_count": null,
   "metadata": {},
   "outputs": [],
   "source": [
    "# Create dataframe copy\n",
    "df_copy = df.copy()\n",
    "df_copy[['Total Immigrants','Total Emigrants']] = df_copy[['Total Immigrants','Total Emigrants']].fillna(value=0)\n",
    "\n",
    "# Find out the calculated next population only using population, births, and deaths\n",
    "df_copy['CalcNextPopulation'] = df_copy['Population'] + df_copy['Births'] - df_copy['Deaths']\n",
    "df_copy['CalcNextPopulation2'] = df_copy['Population'] + df_copy['Births'] + df_copy['Total Immigrants'] - df_copy['Total Emigrants'] - df_copy['Deaths']\n",
    "\n",
    "# Order by state and year so that we can create a lag column properly and remove data for 1914\n",
    "df_copy = df_copy.sort_values(['State','Year'])\n",
    "df_copy['CalcPopulation'] = df_copy['CalcNextPopulation'].shift(1)\n",
    "df_copy['CalcPopulation2'] = df_copy['CalcNextPopulation2'].shift(1)\n",
    "\n",
    "df_copy.loc[df_copy.Year == 1914, 'CalcPopulation'] = np.nan\n",
    "df_copy.loc[df_copy.Year == 1914, 'CalcPopulation2'] = np.nan"
   ]
  },
  {
   "cell_type": "markdown",
   "metadata": {},
   "source": [
    "## 3.1 Population Difference"
   ]
  },
  {
   "cell_type": "code",
   "execution_count": null,
   "metadata": {},
   "outputs": [],
   "source": [
    "# Plot relative population difference between:\n",
    "###  calculated population (strictly births/deaths) vs census population as a percent of census poplation\n",
    "\n",
    "# Calculate the column\n",
    "df_copy['diff'] = abs(df_copy['Population'] - df_copy['CalcPopulation']) / df_copy['Population']\n",
    "df_copy['diff2'] = abs(df_copy['Population'] - df_copy['CalcPopulation2']) / df_copy['Population']\n",
    "\n",
    "\n",
    "# Histogram with labels\n",
    "plt.hist(df_copy['diff'].dropna(), bins=100, color='b', alpha=0.5, label='births/deaths only')\n",
    "#plt.hist(df_copy['diff2'].dropna(), range=(0,0.2), bins=100, color='r', alpha=0.5, label='births/deaths AND immigration/emigration')\n",
    "\n",
    "plt.xlabel('Percent/100')\n",
    "plt.ylabel('Count of Rows')\n",
    "plt.suptitle('Comparing calculated population (births & deaths) with census populations')\n",
    "plt.title('abs(calculated population - census population) / census population')\n",
    "plt.show()"
   ]
  },
  {
   "cell_type": "markdown",
   "metadata": {},
   "source": [
    "## 3.2 Population change for test states"
   ]
  },
  {
   "cell_type": "code",
   "execution_count": null,
   "metadata": {},
   "outputs": [],
   "source": [
    "test_state = 'Louisiana'\n",
    "\n",
    "df1 = df_Deaths_nchs.query(f'State == \"{test_state}\"')\n",
    "df2 = df_populationCt_before.query(f'State == \"{test_state}\"')\n",
    "df3 = df_copy.query(f'State == \"{test_state}\"')\n",
    "df4 = pd_new_rows.query(f'State == \"{test_state}\"')\n",
    "\n",
    "fig,ax = plt.subplots(figsize = (9,7))\n",
    "plt.plot(df1.Year, df1.Population, color='b', label='NCHS population data')\n",
    "plt.plot(df2.Year, df2.PopulationUN, color='r', label='Census 10 year population estimates (filled)')\n",
    "plt.scatter(df2.Year, df2.PopulationUN, color='darkred',s=10, label='Census 10 year population estimates')\n",
    "plt.plot(df3.Year, df3.Population, color='k', linestyle='--', alpha=0.5, label='Dataframe population column')\n",
    "plt.plot(df3.Year, df3.CalcPopulation, color='hotpink', label='Deaths/Births only population (calculated)')\n",
    "plt.plot(df4.Year,df4.Population, color='cyan', label='Linear Prediction')\n",
    "plt.vlines(x=list(df2.Year), ymin=ax.get_ylim()[0], ymax=ax.get_ylim()[1], color='darkred', linestyle=':',alpha=0.2)\n",
    "plt.xlabel('Year')\n",
    "plt.ylabel('Population')\n",
    "plt.suptitle(test_state)\n",
    "plt.title('Comparing Population by Year estimates')\n",
    "\n",
    "plt.legend(loc='upper left')\n",
    "\n",
    "plt.show()"
   ]
  },
  {
   "cell_type": "markdown",
   "metadata": {},
   "source": [
    "## 3.3 Birth/Death Rates"
   ]
  },
  {
   "cell_type": "code",
   "execution_count": null,
   "metadata": {},
   "outputs": [],
   "source": [
    "test_state = 'Tennessee'\n",
    "subdf = df.query(f'State == \"{test_state}\"')\n",
    "subdf1 = subdf[~subdf['sourceDeaths'].isna()]\n",
    "subdf2 = subdf[subdf['sourceDeaths'].isna()]\n",
    "\n",
    "plt.plot(subdf1.Year, subdf1.MortalityRate, color='b', label='death')\n",
    "plt.plot(subdf1.Year, subdf1.CrudeBirthRate, color='r', label='birth')\n",
    "\n",
    "plt.plot(subdf2.Year, subdf2.MortalityRate, color='b', linestyle='--', label='death (linear prediction)')\n",
    "plt.plot(subdf2.Year, subdf2.CrudeBirthRate, color='r', linestyle='--', label='birth (linear prediction)')\n",
    "\n",
    "plt.vlines(x=subdf1.Year.max(),ymin=2,ymax=32, color='gray', linestyle=':',alpha=0.2)\n",
    "plt.legend(loc = 'upper right')\n",
    "plt.suptitle(test_state)\n",
    "plt.title('Comparing Crude Birth and Death Rates from 1914-2020')\n",
    "plt.xlabel('year')\n",
    "plt.ylabel('crude rate (per 1000 population)')\n",
    "plt.show()"
   ]
  },
  {
   "cell_type": "markdown",
   "metadata": {},
   "source": [
    "# 4. Saving"
   ]
  },
  {
   "cell_type": "markdown",
   "metadata": {},
   "source": [
    "## 4.1 Format"
   ]
  },
  {
   "cell_type": "code",
   "execution_count": null,
   "metadata": {},
   "outputs": [],
   "source": [
    "df['Population'] = df['Population'].round().astype(pd.Int64Dtype())\n",
    "df['NextPopulation'] = df['NextPopulation'].round().astype(pd.Int64Dtype())\n",
    "df['Births'] = df['Births'].astype(float).round().astype(pd.Int64Dtype())\n",
    "df['Deaths'] = df['Deaths'].round().astype(pd.Int64Dtype())\n",
    "\n",
    "df = df.sort_values(['State','Year'])"
   ]
  },
  {
   "cell_type": "markdown",
   "metadata": {},
   "source": [
    "## 4.2 Write out to csv"
   ]
  },
  {
   "cell_type": "code",
   "execution_count": null,
   "metadata": {},
   "outputs": [],
   "source": [
    "df.to_csv(f'{fpath_birthComplete}/VitalStats_byYear_byState.csv',header=True,index=False)"
   ]
  },
  {
   "cell_type": "markdown",
   "metadata": {},
   "source": [
    "# Exploration"
   ]
  },
  {
   "cell_type": "code",
   "execution_count": null,
   "metadata": {},
   "outputs": [],
   "source": [
    "# Import polyfit\n",
    "import numpy.polynomial.polynomial as poly\n",
    "\n",
    "# Instantiate fig\n",
    "fig = plt.figure(figsize=(9,7))\n",
    "\n",
    "xs = subdf['Year']\n",
    "\n",
    "\n",
    "# Plot Raw\n",
    "plt.plot(subdf['Year'],subdf['MortalityRate'],color='k',label='Raw Mort')\n",
    "\n",
    "# Run polyfit 50 degree\n",
    "coefs  = poly.polyfit(subdf['Year'],subdf['MortalityRate'],50)\n",
    "ffit = poly.Polynomial(coefs)\n",
    "plt.plot(xs,ffit(xs),color='r',label='50 deg Polyfit')\n",
    "\n",
    "# Run rolling mean\n",
    "ys_alt = subdf['MortalityRate'].rolling(5).sum() / 5\n",
    "plt.plot(xs,ys_alt,color='b',label='Rolling Mean')\n",
    "\n",
    "# Run estimated linear trends\n",
    "for i in np.arange(10,len(xs)):\n",
    "    sdf_x = subdf['Year'].iloc[i-10:i]\n",
    "    sdf_y = subdf['MortalityRate'].iloc[i-10:i]\n",
    "    polyfitted = np.polyfit(sdf_x, sdf_y, 2)\n",
    "    test_xs = np.arange(subdf['Year'].iloc[i-1],subdf['Year'].iloc[i]+2)\n",
    "    test_ys = (polyfitted[0]*test_xs**2) + test_xs*polyfitted[1] + polyfitted[2]\n",
    "    plt.plot(test_xs,test_ys,color='gray',alpha=0.5)\n",
    "    \n",
    "plt.plot(test_xs,test_ys,color='gray',alpha=0.5,label='Predictive fit (prev 5 years linear)')\n",
    "\n",
    "###########################################################################\n",
    "plt.xlabel('Year')\n",
    "plt.ylabel('Rate per 1000 Population')\n",
    "plt.title('Comparing Methods for predictive rates')\n",
    "plt.legend(loc='upper right')\n",
    "plt.show()"
   ]
  },
  {
   "cell_type": "code",
   "execution_count": null,
   "metadata": {},
   "outputs": [],
   "source": []
  }
 ],
 "metadata": {
  "kernelspec": {
   "display_name": "base",
   "language": "python",
   "name": "python3"
  },
  "language_info": {
   "codemirror_mode": {
    "name": "ipython",
    "version": 3
   },
   "file_extension": ".py",
   "mimetype": "text/x-python",
   "name": "python",
   "nbconvert_exporter": "python",
   "pygments_lexer": "ipython3",
   "version": "3.8.5"
  },
  "vscode": {
   "interpreter": {
    "hash": "dba1b3963ecad904c51a72019387ec5f41013f9e1f039a719a278521ef552db8"
   }
  }
 },
 "nbformat": 4,
 "nbformat_minor": 4
}
