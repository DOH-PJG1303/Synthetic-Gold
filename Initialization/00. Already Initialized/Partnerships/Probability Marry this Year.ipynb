{
 "cells": [
  {
   "cell_type": "markdown",
   "metadata": {
    "application/vnd.databricks.v1+cell": {
     "cellMetadata": {},
     "inputWidgets": {},
     "nuid": "a7f7e5bc-b678-434c-847e-eecc9ff2da6d",
     "showTitle": false,
     "title": ""
    }
   },
   "source": [
    "# Mortality - Scrape Actuarial Life Table\n",
    "\n",
    "The purpose of this script is to use an API call to collect information about likelyhood of dying this year by each age.\n",
    "\n",
    "----------------------\n",
    "\n",
    "<p>Author: PJ Gibson</p>\n",
    "<p>Date: 2022-01-19</p>\n",
    "<p>Contact: peter.gibson@doh.wa.gov</p>\n",
    "<p>Other Contact: pjgibson25@gmail.com</p>"
   ]
  },
  {
   "cell_type": "markdown",
   "metadata": {
    "application/vnd.databricks.v1+cell": {
     "cellMetadata": {},
     "inputWidgets": {},
     "nuid": "47a7e171-e39c-479e-9efe-eee3a0e7cf82",
     "showTitle": false,
     "title": ""
    }
   },
   "source": [
    "## 0. Load libraries, define functions"
   ]
  },
  {
   "cell_type": "code",
   "execution_count": null,
   "metadata": {
    "application/vnd.databricks.v1+cell": {
     "cellMetadata": {},
     "inputWidgets": {},
     "nuid": "f37f587c-4e6c-4a2e-9ce7-3dace5e89503",
     "showTitle": false,
     "title": ""
    }
   },
   "outputs": [],
   "source": [
    "import numpy as np\n",
    "import pandas as pd\n",
    "import matplotlib.pyplot as plt\n",
    "from scipy.optimize import curve_fit"
   ]
  },
  {
   "cell_type": "markdown",
   "metadata": {
    "application/vnd.databricks.v1+cell": {
     "cellMetadata": {},
     "inputWidgets": {},
     "nuid": "40289a3a-48f8-4779-8e48-2ffbad520ecb",
     "showTitle": false,
     "title": ""
    }
   },
   "source": [
    "Sigmoid function: \n",
    "$ y = \\frac{1}{1+e^{-x}} $\n",
    "\n",
    "\n",
    "Custom exponential function :\n",
    "$ y = y_0 + (1 - e^{-k(x + x_0)}) $\n",
    "\n",
    "---\n",
    "\n",
    "Both of these functions include a multiplier in front, $z$ to help for fine-tuning"
   ]
  },
  {
   "cell_type": "code",
   "execution_count": null,
   "metadata": {
    "application/vnd.databricks.v1+cell": {
     "cellMetadata": {},
     "inputWidgets": {},
     "nuid": "ead5b3ff-3a6d-4fbc-b4e0-65c4b3e5367a",
     "showTitle": false,
     "title": ""
    }
   },
   "outputs": [],
   "source": [
    "def sigmoid(x, y_0, k, x_0, z):\n",
    "    return z*(y_0 + ( 1 / (1+ np.e**(-k*(x+x_0)))))\n",
    "\n",
    "def custom_exponential_function(x, y_0, k, x_0, z):\n",
    "    return z*(y_0 + (1 - np.e**(-k*(x+x_0))))"
   ]
  },
  {
   "cell_type": "markdown",
   "metadata": {
    "application/vnd.databricks.v1+cell": {
     "cellMetadata": {},
     "inputWidgets": {},
     "nuid": "5ec74a67-96c9-4d9b-80bb-519e7dc7954f",
     "showTitle": false,
     "title": ""
    }
   },
   "source": [
    "## 1. Gather Data"
   ]
  },
  {
   "cell_type": "markdown",
   "metadata": {
    "application/vnd.databricks.v1+cell": {
     "cellMetadata": {},
     "inputWidgets": {},
     "nuid": "1184544a-67b9-442d-8b0e-1ed44c7d7c22",
     "showTitle": false,
     "title": ""
    }
   },
   "source": [
    "### 1.1 Read in data\n",
    "\n",
    "Collected from a United Nations Datasource [linked here](https://population.un.org/MarriageData/Index.html#/home).\n",
    "Suggested citation: United Nations, Department of Economic and Social Affairs, Population Division (2019). World Marriage Data 2019 (POP/DB/Marr/Rev2019).\n",
    "Copyright © 2019 by United Nations, made available under a Creative Commons license CC BY 3.0 IGO: http://creativecommons.org/licenses/by/3.0/igo/\n",
    "\n",
    "*Note that the data itself for the united states 2010 data for women ever married mentions that the source of THAT data was the 2010 census."
   ]
  },
  {
   "cell_type": "code",
   "execution_count": null,
   "metadata": {
    "application/vnd.databricks.v1+cell": {
     "cellMetadata": {},
     "inputWidgets": {},
     "nuid": "6ef09d2f-d1b6-40ee-870e-26a69308d811",
     "showTitle": false,
     "title": ""
    }
   },
   "outputs": [],
   "source": [
    "# Read in data\n",
    "df_ever_married = pd.read_excel('../../../SupportingDocs/Partnerships/01_Raw/UNPD_WMD_2019_MARITAL_STATUS.xlsx', sheet_name='EVER_MARRIED', skiprows=[0,1])\\\n",
    "                    .rename(columns={'Country or area':'Country'})\\\n",
    "                    .query('(Country == \"United States of America\") & (YearStart == 2010) & (Sex == \"Women\")')"
   ]
  },
  {
   "cell_type": "markdown",
   "metadata": {
    "application/vnd.databricks.v1+cell": {
     "cellMetadata": {},
     "inputWidgets": {},
     "nuid": "8c014ce9-ac47-437e-953f-a66feec6548e",
     "showTitle": false,
     "title": ""
    }
   },
   "source": [
    "### 1.2 Minor Wrangling"
   ]
  },
  {
   "cell_type": "code",
   "execution_count": null,
   "metadata": {
    "application/vnd.databricks.v1+cell": {
     "cellMetadata": {},
     "inputWidgets": {},
     "nuid": "8e42dd7b-ebf4-498a-b873-09dd2095453b",
     "showTitle": false,
     "title": ""
    }
   },
   "outputs": [],
   "source": [
    "# The \"AgeEnd\" value for the 65+ group is 999. Let's make that 120 to be more realistic of the upper age a human could be\n",
    "df_ever_married['AgeEnd'] = df_ever_married['AgeEnd'].replace(999,120)\n",
    "\n",
    "# Find average (or agecenter) between start and end age values\n",
    "df_ever_married['AgeCenter'] = (df_ever_married['AgeEnd'] + df_ever_married['AgeStart']) / 2"
   ]
  },
  {
   "cell_type": "markdown",
   "metadata": {
    "application/vnd.databricks.v1+cell": {
     "cellMetadata": {},
     "inputWidgets": {},
     "nuid": "59d274b1-a691-48d5-bbe7-0c51e70a8329",
     "showTitle": false,
     "title": ""
    }
   },
   "source": [
    "### 1.3 Inspect\n",
    "\n",
    "Just a sanity check here to see the general shape of the curve.\n",
    "This helped inform the 2 functions we defined at the top of the notebook."
   ]
  },
  {
   "cell_type": "code",
   "execution_count": null,
   "metadata": {
    "application/vnd.databricks.v1+cell": {
     "cellMetadata": {},
     "inputWidgets": {},
     "nuid": "fb3b17cc-9805-4423-9000-276332e79375",
     "showTitle": false,
     "title": ""
    }
   },
   "outputs": [],
   "source": [
    "xs = df_ever_married['AgeCenter']\n",
    "ys = df_ever_married['DataValue']\n",
    "\n",
    "# Take a peak using matplotlib\n",
    "plt.scatter(xs,ys)\n",
    "plt.xlabel('Age (years)')\n",
    "plt.ylabel('% Population Ever Married')\n",
    "plt.show()\n"
   ]
  },
  {
   "cell_type": "markdown",
   "metadata": {
    "application/vnd.databricks.v1+cell": {
     "cellMetadata": {},
     "inputWidgets": {},
     "nuid": "3d3eff5d-808d-4d08-b9d7-b994ef38c676",
     "showTitle": false,
     "title": ""
    }
   },
   "source": [
    "## 2. Line Fitting"
   ]
  },
  {
   "cell_type": "markdown",
   "metadata": {
    "application/vnd.databricks.v1+cell": {
     "cellMetadata": {},
     "inputWidgets": {},
     "nuid": "1a998b7a-e8c2-45c4-9749-563a95844e0d",
     "showTitle": false,
     "title": ""
    }
   },
   "source": [
    "### 2.1 Use `curve_fit()` function"
   ]
  },
  {
   "cell_type": "code",
   "execution_count": null,
   "metadata": {
    "application/vnd.databricks.v1+cell": {
     "cellMetadata": {},
     "inputWidgets": {},
     "nuid": "e12d3cca-42e0-4e29-bb51-37ee2f2943ca",
     "showTitle": false,
     "title": ""
    }
   },
   "outputs": [],
   "source": [
    "# Try on sigmoid (s-curve) function\n",
    "pars_sigmoid, cov_sigmoid = curve_fit(f=sigmoid, xdata=xs, ydata=ys, p0=[3, 0.1, -30, 100])\n",
    "\n",
    "# Try using decaying exponential\n",
    "pars_exponential, cov2_exponential= curve_fit(f=custom_exponential_function, xdata=xs, ydata=ys, p0=[0, 0.01, -34, 90])"
   ]
  },
  {
   "cell_type": "markdown",
   "metadata": {
    "application/vnd.databricks.v1+cell": {
     "cellMetadata": {},
     "inputWidgets": {},
     "nuid": "7666c52e-1806-4a91-9ba9-ca257e79bb18",
     "showTitle": false,
     "title": ""
    }
   },
   "source": [
    "### 2.2 Collect fitted y-values"
   ]
  },
  {
   "cell_type": "code",
   "execution_count": null,
   "metadata": {
    "application/vnd.databricks.v1+cell": {
     "cellMetadata": {},
     "inputWidgets": {},
     "nuid": "114664f1-8e82-4fb2-a11c-489531902b3e",
     "showTitle": false,
     "title": ""
    }
   },
   "outputs": [],
   "source": [
    "# First define the list of x's we'll use\n",
    "xs2 = np.arange(0,121)\n",
    "\n",
    "# Use parameters and plugin x values to get y values\n",
    "ys_line_sigmoid = pars_sigmoid[3]* (pars_sigmoid[0] + ( 1 / (1+ np.e**(-pars_sigmoid[1]*(xs2+pars_sigmoid[2])))))\n",
    "ys_line_exponential = pars_exponential[3]* (pars_exponential[0] + (1 - np.e**(-pars_exponential[1]*(xs2+pars_exponential[2]))))\n",
    "\n",
    "# Also calculate the average\n",
    "ys_line_average = (ys_line_sigmoid + ys_line_exponential) / 2"
   ]
  },
  {
   "cell_type": "markdown",
   "metadata": {
    "application/vnd.databricks.v1+cell": {
     "cellMetadata": {},
     "inputWidgets": {},
     "nuid": "d9022dfe-e1e1-4ee3-9292-28a90a5ff07b",
     "showTitle": false,
     "title": ""
    }
   },
   "source": [
    "### 2.3 Plot for visual inspection"
   ]
  },
  {
   "cell_type": "code",
   "execution_count": null,
   "metadata": {
    "application/vnd.databricks.v1+cell": {
     "cellMetadata": {},
     "inputWidgets": {},
     "nuid": "b0511a2a-1503-4b01-acad-d13b324abde6",
     "showTitle": false,
     "title": ""
    }
   },
   "outputs": [],
   "source": [
    "# Define our figure and it's axes\n",
    "fig, ax = plt.subplots(nrows=2,ncols=2,sharex=True,sharey=True,figsize=(9,7))\n",
    "ax1, ax2, ax3, ax4 = list(ax[0])+list(ax[1])\n",
    "\n",
    "# Plot 1: Just the raw data\n",
    "######################################################\n",
    "ax1.scatter(xs,ys, color='black', label='raw data')\n",
    "\n",
    "\n",
    "# Plot 2: Raw Data AND sigmoid (s-curve) fit.\n",
    "######################################################\n",
    "ax2.scatter(xs,ys, color='black')\n",
    "ax2.plot(xs2,ys_line_sigmoid, color = 'red', label='sigmoid line fit')\n",
    "\n",
    "# Plot 3: Raw Data AND decaying exponential fit.\n",
    "######################################################\n",
    "ax3.scatter(xs,ys, color='black')\n",
    "ax3.plot(xs2,ys_line_exponential, color = 'blue', label='exponential decay line fit')\n",
    "\n",
    "# Plot 4: For funzies average the two previous fits\n",
    "######################################################\n",
    "ax4.scatter(xs,ys, color='black')\n",
    "ax4.plot(xs2, ys_line_average, color='purple', label='average of previous fits')\n",
    "\n",
    "# Do a little cleanup / prettifying\n",
    "for axis in [ax1,ax2,ax3,ax4]:\n",
    "    axis.set_ylim(0,100)\n",
    "    axis.set_xlim(-2,122)\n",
    "    axis.legend(loc='lower right')\n",
    "\n",
    "# Add title,labels\n",
    "plt.suptitle('Probability of ever-being married by age: Line fits')\n",
    "fig.text(0.5, 0.04, 'Age (years)', ha='center')\n",
    "fig.text(0.04, 0.5, 'Probability of ever married (%)', va='center', rotation='vertical')\n",
    "\n",
    "# Show it off!\n",
    "plt.show()\n"
   ]
  },
  {
   "cell_type": "markdown",
   "metadata": {
    "application/vnd.databricks.v1+cell": {
     "cellMetadata": {},
     "inputWidgets": {},
     "nuid": "f73e616a-5ea4-4d05-aad4-e227584d2f84",
     "showTitle": false,
     "title": ""
    }
   },
   "source": [
    "### 2.4 Calculate RMSE\n",
    "\n",
    "We'll calulate the root mean squared error to get some numerical backing for our choice in fits."
   ]
  },
  {
   "cell_type": "markdown",
   "metadata": {
    "application/vnd.databricks.v1+cell": {
     "cellMetadata": {},
     "inputWidgets": {},
     "nuid": "3fdff1e1-99f5-404d-97e8-9abbb53756dc",
     "showTitle": false,
     "title": ""
    }
   },
   "source": [
    "#### 2.4.1 Calculate value for few points only\n",
    "\n",
    "For plotting, we showed all values between 0-140.\n",
    "For comparing with our original data points, we only need data for a handful of points."
   ]
  },
  {
   "cell_type": "code",
   "execution_count": null,
   "metadata": {
    "application/vnd.databricks.v1+cell": {
     "cellMetadata": {},
     "inputWidgets": {},
     "nuid": "8d4ced31-cdd7-4f3e-b82e-d5e1b83ab322",
     "showTitle": false,
     "title": ""
    }
   },
   "outputs": [],
   "source": [
    "# Use parameters and plugin x values to get y values\n",
    "ys_points_sigmoid = pars_sigmoid[3]* (pars_sigmoid[0] + ( 1 / (1+ np.e**(-pars_sigmoid[1]*(xs+pars_sigmoid[2])))))\n",
    "ys_points_exponential = pars_exponential[3]* (pars_exponential[0] + (1 - np.e**(-pars_exponential[1]*(xs+pars_exponential[2]))))\n",
    "\n",
    "# Also calculate the average\n",
    "ys_points_average = (ys_points_sigmoid + ys_points_exponential) / 2"
   ]
  },
  {
   "cell_type": "markdown",
   "metadata": {
    "application/vnd.databricks.v1+cell": {
     "cellMetadata": {},
     "inputWidgets": {},
     "nuid": "77591758-9cc6-488e-9cf0-634cde5bda0a",
     "showTitle": false,
     "title": ""
    }
   },
   "source": [
    "#### 2.4.2 Calculate diff^2, then RMSE\n",
    "\n",
    "We'll find the absoulte difference squared in this step.\n",
    "Then calculate the mean difference squared."
   ]
  },
  {
   "cell_type": "code",
   "execution_count": null,
   "metadata": {
    "application/vnd.databricks.v1+cell": {
     "cellMetadata": {},
     "inputWidgets": {},
     "nuid": "2190db1c-2f9b-4e7c-b4f4-a21edfde471b",
     "showTitle": false,
     "title": ""
    }
   },
   "outputs": [],
   "source": [
    "# Calculate Differences\n",
    "diff2_sigmoid = abs(ys_points_sigmoid - ys)\n",
    "diff2_exponential = abs(ys_points_exponential - ys)\n",
    "diff2_average = abs(ys_points_average - ys)\n",
    "\n",
    "# Calculate RMSE\n",
    "RMSE_sigmoid = np.mean(diff2_sigmoid)\n",
    "RMSE_exponential = np.mean(diff2_exponential)\n",
    "RMSE_average = np.mean(diff2_average)"
   ]
  },
  {
   "cell_type": "markdown",
   "metadata": {
    "application/vnd.databricks.v1+cell": {
     "cellMetadata": {},
     "inputWidgets": {},
     "nuid": "6acbf19b-e827-4ad2-8eef-f336fd84e6a4",
     "showTitle": false,
     "title": ""
    }
   },
   "source": [
    "#### 2.4.3 Reveal Results\n",
    "\n",
    "We see that the result with the best results (slightly) was the average of the two functions.\n",
    "This agrees with my visual inspection as well.\n",
    "We'll proceed with the data wrangling using this data as our choice."
   ]
  },
  {
   "cell_type": "code",
   "execution_count": null,
   "metadata": {
    "application/vnd.databricks.v1+cell": {
     "cellMetadata": {},
     "inputWidgets": {},
     "nuid": "fbb58057-561e-441e-a9f3-7928d5ff1053",
     "showTitle": false,
     "title": ""
    }
   },
   "outputs": [],
   "source": [
    "print(f'{np.round(RMSE_sigmoid,4)}: RMSE of the sigmoid function approximation')\n",
    "print(f'{np.round(RMSE_exponential,4)}: RMSE of our custom exponential function approximation')\n",
    "print(f'{np.round(RMSE_average,4)}: RMSE of the average values between two function outputs approximation')"
   ]
  },
  {
   "cell_type": "markdown",
   "metadata": {
    "application/vnd.databricks.v1+cell": {
     "cellMetadata": {},
     "inputWidgets": {},
     "nuid": "fe374376-24b8-42d6-a602-a9ed8c67c9c0",
     "showTitle": false,
     "title": ""
    }
   },
   "source": [
    "## 3. Wrangle Data\n",
    "\n",
    "Now that we have a good idea of what percent of the population (female) is ever_married for each individual age (per our average line-fit), we want to dive into our primary question:\n",
    "\n",
    "<b>What is the likelyhood of getting married for the first time at any given age?</b>\n",
    "\n",
    "----\n",
    "\n",
    "We'll tackle this problem using a manual approach wher and see how many individuals are married off each year.\n",
    "In our manual compartementalized approach we'll use the following logic:\n",
    "* Start with 100 unmarried 18-year-olds tracking their marriage status each year\n",
    "  * note that while we say 100 unmarried 18-year-olds, we'll still have fractions and don't ever round.\n",
    "* Each year, by the end of the year, the total number ever_married must equal the percert given in our linear approximation for that age.\n",
    "* The probability of getting married in a given year is the number married this year / number never married at the beginning of the year.\n",
    "\n",
    "*this number of 100 is somewhat arbirary but helps easily see the relationship between the fields \"PercentMarried\" and \"NumMarried_ThisYear\"."
   ]
  },
  {
   "cell_type": "markdown",
   "metadata": {
    "application/vnd.databricks.v1+cell": {
     "cellMetadata": {},
     "inputWidgets": {},
     "nuid": "81161fb7-87a5-437e-9a69-b72a23a11a29",
     "showTitle": false,
     "title": ""
    }
   },
   "source": [
    "### 3.1 Establish Original Dataframe\n",
    "\n",
    "Only contains the age and perent of individuals (of that age) that are married.\n",
    "\n",
    "The simulation will force partnerships to occur at 18 years of age or later.\n",
    "This isn't perfectly represntative of the United States since some partnerships/marriages do happen before that age, but I don't want a simulation that includes that type of partnership."
   ]
  },
  {
   "cell_type": "code",
   "execution_count": null,
   "metadata": {
    "application/vnd.databricks.v1+cell": {
     "cellMetadata": {},
     "inputWidgets": {},
     "nuid": "5bfae10c-d0f0-4e9a-83e0-22b40e8781ee",
     "showTitle": false,
     "title": ""
    }
   },
   "outputs": [],
   "source": [
    "# Get percent of population married at each age using our 2 line average fit.\n",
    "df = pd.DataFrame(data = np.column_stack([xs2,ys_line_average]),\\\n",
    "                  columns = ['Age','PercentMarried'])\n",
    "\n",
    "# Only look at ages older than 17.  Initialize so that 0 17-year-olds are married. PJ's choice.\n",
    "df = df.query('Age >= 17')\n",
    "df.loc[17,'PercentMarried'] = 0"
   ]
  },
  {
   "cell_type": "markdown",
   "metadata": {
    "application/vnd.databricks.v1+cell": {
     "cellMetadata": {},
     "inputWidgets": {},
     "nuid": "3c7462c7-8dc3-4ae3-915c-d8a516c1bf1f",
     "showTitle": false,
     "title": ""
    }
   },
   "source": [
    "### 3.2 Establish Probability Related Fields"
   ]
  },
  {
   "cell_type": "code",
   "execution_count": null,
   "metadata": {
    "application/vnd.databricks.v1+cell": {
     "cellMetadata": {},
     "inputWidgets": {},
     "nuid": "72eda1e2-e5a8-4ac2-b8be-9d709d861a5d",
     "showTitle": false,
     "title": ""
    }
   },
   "outputs": [],
   "source": [
    "# Given an initial population of 100, find the number single\n",
    "df['NumSingle'] = 100 - df['PercentMarried']\n",
    "\n",
    "# Grab the population of last year (only considering singles)\n",
    "df['NumSingle_LastYear'] = np.append(np.nan,np.array(df['NumSingle'][:-1]))\n",
    "\n",
    "# Find out how many people were married this year\n",
    "df['NumMarried_ThisYear'] = df['NumSingle_LastYear'] - df['NumSingle']\n",
    "\n",
    "# Probability of first marriage this year = number married / number initially single\n",
    "df['ProbabilityOfMarriage_ThisYear'] = df['NumMarried_ThisYear'] / df['NumSingle_LastYear']"
   ]
  },
  {
   "cell_type": "markdown",
   "metadata": {
    "application/vnd.databricks.v1+cell": {
     "cellMetadata": {},
     "inputWidgets": {},
     "nuid": "9a3d7866-d721-4583-b5e3-101046cc9b01",
     "showTitle": false,
     "title": ""
    }
   },
   "source": [
    "## 4. Saving"
   ]
  },
  {
   "cell_type": "markdown",
   "metadata": {
    "application/vnd.databricks.v1+cell": {
     "cellMetadata": {},
     "inputWidgets": {},
     "nuid": "723faad0-0cf5-4763-a4d4-f3f8287e4700",
     "showTitle": false,
     "title": ""
    }
   },
   "source": [
    "### 4.1 Save to .csv\n",
    "\n",
    "Note we don't use this .csv in the process, but it is interesting to have a copy of."
   ]
  },
  {
   "cell_type": "code",
   "execution_count": null,
   "metadata": {
    "application/vnd.databricks.v1+cell": {
     "cellMetadata": {},
     "inputWidgets": {},
     "nuid": "86f10e55-d306-429d-a9f3-60edce3786d8",
     "showTitle": false,
     "title": ""
    }
   },
   "outputs": [],
   "source": [
    "df.query('Age > 17')\\\n",
    "  .to_csv('../../../SupportingDocs/Partnerships/03_Complete/ProbabilityMarriageThisYear_byAge.csv', index=False)"
   ]
  },
  {
   "cell_type": "markdown",
   "metadata": {
    "application/vnd.databricks.v1+cell": {
     "cellMetadata": {},
     "inputWidgets": {},
     "nuid": "f31b5a99-fa90-4335-98da-ce94772f7a34",
     "showTitle": false,
     "title": ""
    }
   },
   "source": [
    "### 4.2 Print output\n",
    "\n",
    "This is what is copy/pasted into the notebook \"{root}/Functions/Process Functions\" in the `spdf_will_marry()` function in the 2. Partnership Process section of the notebook.\n",
    "Note that we define the list instead of reading in a .csv file each time due to the nature of UDFs.\n",
    "We don't want to reread the same .csv file over and over again for every row, it's more timely just to define the list within the function."
   ]
  },
  {
   "cell_type": "code",
   "execution_count": null,
   "metadata": {
    "application/vnd.databricks.v1+cell": {
     "cellMetadata": {},
     "inputWidgets": {},
     "nuid": "45930f3d-ea9a-4648-9793-4cfcf4eaca5b",
     "showTitle": false,
     "title": ""
    }
   },
   "outputs": [],
   "source": [
    "df.query('Age > 17')[['Age','ProbabilityOfMarriage_ThisYear']].to_numpy()"
   ]
  },
  {
   "cell_type": "markdown",
   "metadata": {
    "application/vnd.databricks.v1+cell": {
     "cellMetadata": {},
     "inputWidgets": {},
     "nuid": "ccfdd2a3-5e9a-464c-a31a-dcfdfccebf66",
     "showTitle": false,
     "title": ""
    }
   },
   "source": [
    "## 5. Extra Sanity Checks"
   ]
  },
  {
   "cell_type": "markdown",
   "metadata": {
    "application/vnd.databricks.v1+cell": {
     "cellMetadata": {},
     "inputWidgets": {},
     "nuid": "bdc71cd2-bcd0-4265-8dbc-07c22009f3cf",
     "showTitle": false,
     "title": ""
    }
   },
   "source": [
    "### 5.1 See if our probabilities check out"
   ]
  },
  {
   "cell_type": "code",
   "execution_count": null,
   "metadata": {
    "application/vnd.databricks.v1+cell": {
     "cellMetadata": {},
     "inputWidgets": {},
     "nuid": "3b9fcfb2-a566-4146-b7ca-d6e9736976de",
     "showTitle": false,
     "title": ""
    }
   },
   "outputs": [],
   "source": [
    "\n",
    "# Calculate the inverse probability -> probability of staying single that year\n",
    "df['inverseProba'] = 1- df['ProbabilityOfMarriage_ThisYear']\n",
    "\n",
    "# For each row (not the first for 17 year olds):\n",
    "for i in np.arange(1,len(df)):\n",
    "\n",
    "    # Find the probabilities up to that point\n",
    "    subset = df['inverseProba'].iloc[1:i+1]\n",
    "\n",
    "    # Find current row age\n",
    "    cur_age = df.iloc[i]['Age']\n",
    "\n",
    "    # Calculate product of all previous probabilies of staying single\n",
    "    starter = 100\n",
    "    for element in subset:\n",
    "        starter = starter*element\n",
    "\n",
    "    # Calc the difference between number single and product of percent chances of leaving every previous year single.\n",
    "    ### Should be the same\n",
    "    difference = df.iloc[i].NumSingle - starter\n",
    "\n",
    "    # If they're not the same, call me a monkey's uncle.\n",
    "    if difference > 0.000000001:\n",
    "        print(f'YOU FOOL!!!!\\n At {cur_age}, difference was {difference} which is way too much!')\n",
    "\n"
   ]
  },
  {
   "cell_type": "markdown",
   "metadata": {
    "application/vnd.databricks.v1+cell": {
     "cellMetadata": {},
     "inputWidgets": {},
     "nuid": "5d04e48b-3f7d-4b04-81d7-51cd841c5a89",
     "showTitle": false,
     "title": ""
    }
   },
   "source": [
    "### 5.2 Fun Plotting"
   ]
  },
  {
   "cell_type": "code",
   "execution_count": null,
   "metadata": {
    "application/vnd.databricks.v1+cell": {
     "cellMetadata": {},
     "inputWidgets": {},
     "nuid": "9e288e4c-8768-42f1-9418-5a4fd06dd82a",
     "showTitle": false,
     "title": ""
    }
   },
   "outputs": [],
   "source": [
    "age_highest_proba = df.iloc[df['ProbabilityOfMarriage_ThisYear'].argmax()]['Age']\n",
    "\n",
    "plt.plot(df['Age'], df['ProbabilityOfMarriage_ThisYear'], label='probability')\n",
    "plt.vlines(x=age_highest_proba, ymin=0,ymax=0.1, colors='k',linestyles='--',label=f'max likelyhood if unmarried:\\nage {int(age_highest_proba)}')\n",
    "plt.xlabel('Age')\n",
    "plt.ylabel('Probability (normalized to 1.0)')\n",
    "plt.title('Probability of Marriage by Age (if unmarried by that age)')\n",
    "plt.legend(loc='upper right')\n",
    "plt.xlim(18,120)\n",
    "plt.ylim(0,0.1)\n",
    "plt.show()"
   ]
  },
  {
   "cell_type": "code",
   "execution_count": null,
   "metadata": {
    "application/vnd.databricks.v1+cell": {
     "cellMetadata": {},
     "inputWidgets": {},
     "nuid": "2f0d605f-946c-4394-890f-657f2e320609",
     "showTitle": false,
     "title": ""
    }
   },
   "outputs": [],
   "source": [
    "plt.plot(df['Age'],df['PercentMarried'])\n",
    "plt.xlim(18,120)\n",
    "plt.ylim(0,100)\n",
    "plt.xlabel('Age')\n",
    "plt.ylabel('Percent of Population Ever Married')\n",
    "plt.title('Percent of Population Married by Age')\n",
    "plt.show()"
   ]
  },
  {
   "cell_type": "code",
   "execution_count": null,
   "metadata": {
    "application/vnd.databricks.v1+cell": {
     "cellMetadata": {},
     "inputWidgets": {},
     "nuid": "5a288902-c654-48fb-9222-37d106916f5b",
     "showTitle": false,
     "title": ""
    }
   },
   "outputs": [],
   "source": []
  }
 ],
 "metadata": {
  "application/vnd.databricks.v1+notebook": {
   "dashboards": [],
   "language": "python",
   "notebookMetadata": {
    "pythonIndentUnit": 2
   },
   "notebookName": "Probability Marry this Year",
   "widgets": {}
  },
  "kernelspec": {
   "display_name": "base",
   "language": "python",
   "name": "python3"
  },
  "language_info": {
   "codemirror_mode": {
    "name": "ipython",
    "version": 3
   },
   "file_extension": ".py",
   "mimetype": "text/x-python",
   "name": "python",
   "nbconvert_exporter": "python",
   "pygments_lexer": "ipython3",
   "version": "3.8.5"
  },
  "vscode": {
   "interpreter": {
    "hash": "dba1b3963ecad904c51a72019387ec5f41013f9e1f039a719a278521ef552db8"
   }
  }
 },
 "nbformat": 4,
 "nbformat_minor": 0
}
