{
 "cells": [
  {
   "cell_type": "markdown",
   "metadata": {},
   "source": [
    "# get-recent-migration-stats\n",
    "\n",
    "The purpose of this script is to find out what percent of the population has a mobile phone for each year 1980-2025. \n",
    "Fortunately for us, that data exists online and all we need to do is pull it.\n",
    "\n",
    "Data source [linked here](https://stats.areppim.com/stats/stats_mobilexpenetr.htm)\n",
    "\n",
    "----------------------\n",
    "\n",
    "<p>Author: PJ Gibson</p>\n",
    "<p>Date: 2023-01-18</p>\n",
    "<p>Contact: peter.gibson@doh.wa.gov</p>\n",
    "<p>Other Contact: pjgibson25@gmail.com</p>\n"
   ]
  },
  {
   "cell_type": "markdown",
   "metadata": {},
   "source": [
    "## 0. Import libs"
   ]
  },
  {
   "cell_type": "code",
   "execution_count": 1,
   "metadata": {},
   "outputs": [],
   "source": [
    "import pandas as pd\n",
    "import numpy as np\n",
    "import requests"
   ]
  },
  {
   "cell_type": "markdown",
   "metadata": {},
   "source": [
    "## 1. Fetch data"
   ]
  },
  {
   "cell_type": "code",
   "execution_count": 20,
   "metadata": {},
   "outputs": [],
   "source": [
    "url = 'https://stats.areppim.com/stats/stats_mobilexpenetr.htm'\n",
    "\n",
    "# API Call \n",
    "page_data = requests.get(url)\n",
    "\n",
    "# Identify the table we want within the page text, get proper cols\n",
    "df = pd.read_html(page_data.text)[0].iloc[3:49,:]\n",
    "df.columns = ['Year',\n",
    "              'WorldPopulation_millions',\n",
    "              'ActualSubscribers_millions',\n",
    "              'ActualPercent',\n",
    "              'ForecastSubscribers_millions',\n",
    "              'ForecastPercent',\n",
    "              'ForecastPercentSaturation']"
   ]
  },
  {
   "cell_type": "markdown",
   "metadata": {},
   "source": [
    "### 1.1 Save to 01_Raw"
   ]
  },
  {
   "cell_type": "code",
   "execution_count": 21,
   "metadata": {},
   "outputs": [],
   "source": [
    "df.to_csv('../../../SupportingDocs/Phone/01_Raw/MobileCellularPhonesGlobalMarketPenetration_1980_2025.csv',header=True,index=False)"
   ]
  },
  {
   "cell_type": "markdown",
   "metadata": {},
   "source": [
    "## 2. Wrangle Data\n",
    "\n",
    "Let's make it a bit more usable"
   ]
  },
  {
   "cell_type": "code",
   "execution_count": 27,
   "metadata": {},
   "outputs": [],
   "source": [
    "# Identify desired columns and rename\n",
    "df_wrangled = df[['Year','ForecastPercentSaturation']]\\\n",
    "                .rename(columns={'Year':'year',\n",
    "                                 'ForecastPercentSaturation':'perc'})\n",
    "\n",
    "# Wrangle percent into 1-normalized floating decimal, year into integer\n",
    "df_wrangled['perc'] = df_wrangled['perc'].str[:-1].astype(float) / 100\n",
    "df_wrangled['year'] = df_wrangled['year'].astype(int)"
   ]
  },
  {
   "cell_type": "markdown",
   "metadata": {},
   "source": [
    "### 2.1 Save to 03_Complete"
   ]
  },
  {
   "cell_type": "code",
   "execution_count": 29,
   "metadata": {},
   "outputs": [],
   "source": [
    "# Save to complete\n",
    "df_wrangled.to_csv('../../../SupportingDocs/Phone/03_Complete/mobile_phone_proba_by_year.csv',header=True,index=False)"
   ]
  },
  {
   "cell_type": "code",
   "execution_count": null,
   "metadata": {},
   "outputs": [],
   "source": []
  }
 ],
 "metadata": {
  "kernelspec": {
   "display_name": "Python 3",
   "language": "python",
   "name": "python3"
  },
  "language_info": {
   "codemirror_mode": {
    "name": "ipython",
    "version": 3
   },
   "file_extension": ".py",
   "mimetype": "text/x-python",
   "name": "python",
   "nbconvert_exporter": "python",
   "pygments_lexer": "ipython3",
   "version": "3.8.5"
  }
 },
 "nbformat": 4,
 "nbformat_minor": 4
}
