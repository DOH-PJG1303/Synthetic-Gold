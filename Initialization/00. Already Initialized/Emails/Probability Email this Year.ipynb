{
 "cells": [
  {
   "attachments": {},
   "cell_type": "markdown",
   "metadata": {},
   "source": [
    "# Probability Email this Year\n",
    "\n",
    "The purpose of this script is to provide an approximate breakdown of the porportion of the USA population with an email address by year.\n",
    "This is some very rough predictions, but it's better than nothing\n",
    "\n",
    "Data source linked below:\n",
    "* [Data 1996 & 1997](https://www.theguardian.com/technology/2002/mar/13/internetnews). Details the history/origins of email use.\n",
    "* [Data 2013-2021](https://ntia.gov/other-publication/2022/digital-nation-data-explorer#sel=emailUser&demo=&pc=prop&disp=chart). It details the percent of people Age 15+ who use the internet in the United States.\n",
    "\n",
    "\n",
    "\n",
    "----------------------\n",
    "\n",
    "<p>Author: PJ Gibson</p>\n",
    "<p>Date: 2023-01-20</p>\n",
    "<p>Contact: peter.gibson@doh.wa.gov</p>\n",
    "<p>Other Contact: pjgibson25@gmail.com</p>"
   ]
  },
  {
   "attachments": {},
   "cell_type": "markdown",
   "metadata": {},
   "source": [
    "## 0. Load libraries, define functions"
   ]
  },
  {
   "cell_type": "code",
   "execution_count": null,
   "metadata": {},
   "outputs": [],
   "source": [
    "import numpy as np\n",
    "import pandas as pd\n",
    "import matplotlib.pyplot as plt\n",
    "from scipy.optimize import curve_fit"
   ]
  },
  {
   "cell_type": "markdown",
   "metadata": {},
   "source": [
    "Sigmoid function: \n",
    "$ y = \\frac{1}{1+e^{-x}} $\n",
    "\n",
    "\n",
    "Custom exponential function :\n",
    "$ y = y_0 + (1 - e^{-k(x + x_0)}) $\n",
    "\n",
    "---\n",
    "\n",
    "Both of these functions include a multiplier in front, $z$ to help for fine-tuning"
   ]
  },
  {
   "cell_type": "code",
   "execution_count": null,
   "metadata": {},
   "outputs": [],
   "source": [
    "def sigmoid(x, y_0, k, x_0, z):\n",
    "    return z*(y_0 + ( 1 / (1+ np.e**(-k*(x+x_0)))))\n",
    "\n",
    "def custom_exponential_function(x, y_0, k, x_0, z):\n",
    "    return z*(y_0 + (1 - np.e**(-k*(x+x_0))))"
   ]
  },
  {
   "attachments": {},
   "cell_type": "markdown",
   "metadata": {},
   "source": [
    "## 1. Gather Data"
   ]
  },
  {
   "attachments": {},
   "cell_type": "markdown",
   "metadata": {},
   "source": [
    "### 1.1 Read in data from .csv\n",
    "\n",
    "The data source from the National Telecoummuncations and Information Administration details data (inconsistently) from 1997 to 2019."
   ]
  },
  {
   "cell_type": "code",
   "execution_count": null,
   "metadata": {},
   "outputs": [],
   "source": [
    "df_source1 = pd.read_csv('../../../SupportingDocs/Email/01_Raw/ntia-analyze-table-FINAL21.csv')"
   ]
  },
  {
   "attachments": {},
   "cell_type": "markdown",
   "metadata": {},
   "source": [
    "#### 1.1.1 Wrangle source\n",
    "\n",
    "We need to do a couple things:\n",
    "* filter to only the email data\n",
    "* convert the dataset form \"3charmonth-YY\" to numeric dtypes"
   ]
  },
  {
   "cell_type": "code",
   "execution_count": null,
   "metadata": {},
   "outputs": [],
   "source": [
    "# Filter to using email only\n",
    "df_source1 = df_source1.query('description == \"Uses Email\"')\n",
    "\n",
    "# Split up the month/year\n",
    "df_source1[['Month','Year']] = df_source1['dataset'].str.split('-',expand=True)\n",
    "\n",
    "# Create dict to replace months with percent through the year.\n",
    "### Assume released during the halfway point in the month\n",
    "convert_dict = {'Jan': 0.5/12,\n",
    "                'Feb': 1.5/12,\n",
    "                'Mar': 2.5/12,\n",
    "                'Apr': 3.5/12,\n",
    "                'May': 4.5/12,\n",
    "                'Jun': 5.5/12,\n",
    "                'Jul': 6.5/12,\n",
    "                'Aug': 7.5/12,\n",
    "                'Sep': 8.5/12,\n",
    "                'Oct': 9.5/12,\n",
    "                'Nov': 10.5/12,\n",
    "                'Dec': 11.5/12,}\n",
    "\n",
    "# Enact that dict\n",
    "df_source1['Month'] = df_source1['Month'].replace(convert_dict).astype(float)\n",
    "\n",
    "# Create a new time_observed column \n",
    "### *need to add 2000 since all years are post-2000 and only 2 digits right now\n",
    "df_source1['time_observed'] = 2000 + df_source1.Year.astype(int) + df_source1.Month\n",
    "\n",
    "# Filter down to only columns we care about\n",
    "df_source1 = df_source1[['time_observed','usProp']]"
   ]
  },
  {
   "attachments": {},
   "cell_type": "markdown",
   "metadata": {},
   "source": [
    "### 1.2 Manually define dataset2\n",
    "\n",
    "This data is from the Guardian data source [linked here](https://www.theguardian.com/technology/2002/mar/13/internetnews).\n",
    "We'll manually define it.\n",
    "Note that observations just say 1996 and 1997.\n",
    "Since we don't know when it happened, we'll asume that it happened halfway through the year (1996.5 and 1997.5).\n",
    "\n",
    "The observation from 1996 is when free email became available, which we assume to represent a starting proportion of the united states users as 0.0.\n",
    "\n",
    "The observation from 1997 is when 10million users worldwide were using the internet.\n",
    "We'll perhaps very wrongly assume that all of them are users within the United States.\n",
    "By year the United States had a population of:\n",
    "* 1997: 266,490,000.  Census data source [linked here](https://www2.census.gov/library/publications/1998/demographics/p23-194.pdf)\n",
    "* 1998: 268,000,000.  Census data source [linked here](https://www2.census.gov/library/publications/1998/compendia/statab/118ed/tables/sasec1.pdf)\n",
    "\n",
    "We'll take the average of the 2 to define our United States population at 1997.5.\n",
    "This defines our denominator when finding out the proportion of email users in the United States at that time.\n",
    "\n",
    "*Note that the population estimates don't reflect people only age 15+ like data source1.\n",
    "We'll be alright with that and just assume it helps balance our massive assumption that the only 10 million people with emails in 1997 are people from the United States.\n",
    "Art, not science."
   ]
  },
  {
   "cell_type": "code",
   "execution_count": null,
   "metadata": {},
   "outputs": [],
   "source": [
    "df_source2 = pd.DataFrame.from_dict( {'time_observed':[1996.5, 1997.5],\n",
    "                                      'usProp':[0.0, 10_000_000 / ( (266_490_000 + 268_000_000) / 2 )]})"
   ]
  },
  {
   "attachments": {},
   "cell_type": "markdown",
   "metadata": {},
   "source": [
    "### 1.3 Combine & Inspect"
   ]
  },
  {
   "cell_type": "code",
   "execution_count": null,
   "metadata": {},
   "outputs": [],
   "source": [
    "df = pd.concat([df_source2,df_source1],ignore_index=True)\n",
    "\n",
    "plt.scatter(df['time_observed'], df['usProp'])\n",
    "plt.xlabel('Year')\n",
    "plt.ylabel('Percent of United States 15+ with Email')"
   ]
  },
  {
   "attachments": {},
   "cell_type": "markdown",
   "metadata": {},
   "source": [
    "## 2. Line Fitting"
   ]
  },
  {
   "cell_type": "code",
   "execution_count": null,
   "metadata": {},
   "outputs": [],
   "source": [
    "xs = df['time_observed']\n",
    "ys = df['usProp']"
   ]
  },
  {
   "attachments": {},
   "cell_type": "markdown",
   "metadata": {},
   "source": [
    "### 2.1 Use `curve_fit()` function"
   ]
  },
  {
   "cell_type": "code",
   "execution_count": null,
   "metadata": {},
   "outputs": [],
   "source": [
    "# Try on sigmoid (s-curve) function\n",
    "pars_sigmoid, cov_sigmoid = curve_fit(f=sigmoid, xdata=xs, ydata=ys, p0=[0, 0.3, -2006, 0.9])\n",
    "\n",
    "# Try using decaying exponential\n",
    "pars_exponential, cov2_exponential= curve_fit(f=custom_exponential_function, xdata=xs, ydata=ys, p0=[0, 0.1, -1996, 0.9])"
   ]
  },
  {
   "attachments": {},
   "cell_type": "markdown",
   "metadata": {},
   "source": [
    "### 2.2 Collect fitted y-values"
   ]
  },
  {
   "cell_type": "code",
   "execution_count": null,
   "metadata": {},
   "outputs": [],
   "source": [
    "xs2 = np.arange(1995,2026)\n",
    "\n",
    "# Use parameters and plugin x values to get y values\n",
    "ys_line_sigmoid = pars_sigmoid[3]* (pars_sigmoid[0] + ( 1 / (1+ np.e**(-pars_sigmoid[1]*(xs2+pars_sigmoid[2])))))\n",
    "ys_line_exponential = pars_exponential[3]* (pars_exponential[0] + (1 - np.e**(-pars_exponential[1]*(xs2+pars_exponential[2]))))\n",
    "ys_line_average = (ys_line_sigmoid + ys_line_exponential) / 2"
   ]
  },
  {
   "attachments": {},
   "cell_type": "markdown",
   "metadata": {},
   "source": [
    "### 2.3 Plot for visual inspection"
   ]
  },
  {
   "cell_type": "code",
   "execution_count": null,
   "metadata": {},
   "outputs": [],
   "source": [
    "# Define our figure and it's axes\n",
    "fig, ax = plt.subplots(nrows=2,ncols=2,sharex=True,sharey=True,figsize=(9,7))\n",
    "ax1, ax2, ax3, ax4 = list(ax[0])+list(ax[1])\n",
    "\n",
    "# Plot 1: Just the raw data\n",
    "######################################################\n",
    "ax1.scatter(xs,ys, color='black', label='raw data')\n",
    "\n",
    "\n",
    "# Plot 2: Raw Data AND sigmoid (s-curve) fit.\n",
    "######################################################\n",
    "ax2.scatter(xs,ys, color='black')\n",
    "ax2.plot(xs2,ys_line_sigmoid, color = 'red', label='sigmoid line fit')\n",
    "\n",
    "# Plot 3: Raw Data AND decaying exponential fit.\n",
    "######################################################\n",
    "ax3.scatter(xs,ys, color='black')\n",
    "ax3.plot(xs2,ys_line_exponential, color = 'blue', label='exponential decay line fit')\n",
    "\n",
    "# Plot 4: For funzies average the two previous fits\n",
    "######################################################\n",
    "ax4.scatter(xs,ys, color='black')\n",
    "ax4.plot(xs2, (ys_line_sigmoid+ys_line_exponential)/2, color='purple', label='average of previous fits')\n",
    "\n",
    "# Do a little cleanup / prettifying\n",
    "for axis in [ax1,ax2,ax3,ax4]:\n",
    "    axis.set_ylim(0,1)\n",
    "    axis.set_xlim(1996,2025)\n",
    "    axis.legend(loc='lower right')\n",
    "\n",
    "# Add title,labels\n",
    "plt.suptitle('Probability of ever-being married by age: Line fits')\n",
    "fig.text(0.5, 0.04, 'Year', ha='center')\n",
    "fig.text(0.04, 0.5, 'Probability of ever married (%)', va='center', rotation='vertical')\n",
    "\n",
    "# Show it off!\n",
    "plt.show()\n"
   ]
  },
  {
   "attachments": {},
   "cell_type": "markdown",
   "metadata": {},
   "source": [
    "### 2.4 Calculate RMSE\n",
    "\n",
    "We'll calulate the root mean squared error to get some numerical backing for our choice in fits."
   ]
  },
  {
   "attachments": {},
   "cell_type": "markdown",
   "metadata": {},
   "source": [
    "#### 2.4.1 Calculate value for few points only\n",
    "\n",
    "For plotting, we showed all values between 1996-2025 (inclusive).\n",
    "For comparing with our original data points, we only need data for a handful of points in our original source data."
   ]
  },
  {
   "cell_type": "code",
   "execution_count": null,
   "metadata": {},
   "outputs": [],
   "source": [
    "# Use parameters and plugin x values to get y values\n",
    "ys_points_sigmoid = pars_sigmoid[3]* (pars_sigmoid[0] + ( 1 / (1+ np.e**(-pars_sigmoid[1]*(xs+pars_sigmoid[2])))))\n",
    "ys_points_exponential = pars_exponential[3]* (pars_exponential[0] + (1 - np.e**(-pars_exponential[1]*(xs+pars_exponential[2]))))\n",
    "\n",
    "# Also calculate the average\n",
    "ys_points_average = (ys_points_sigmoid + ys_points_exponential) / 2"
   ]
  },
  {
   "attachments": {},
   "cell_type": "markdown",
   "metadata": {},
   "source": [
    "#### 2.4.2 Calculate diff^2, then RMSE\n",
    "\n",
    "We'll find the absoulte difference squared in this step.\n",
    "Then calculate the mean difference squared."
   ]
  },
  {
   "cell_type": "code",
   "execution_count": null,
   "metadata": {},
   "outputs": [],
   "source": [
    "# Calculate Differences\n",
    "diff2_sigmoid = abs(ys_points_sigmoid - ys)\n",
    "diff2_exponential = abs(ys_points_exponential - ys)\n",
    "diff2_average = abs(ys_points_average - ys)\n",
    "\n",
    "# Calculate RMSE\n",
    "RMSE_sigmoid = np.mean(diff2_sigmoid)\n",
    "RMSE_exponential = np.mean(diff2_exponential)\n",
    "RMSE_average = np.mean(diff2_average)"
   ]
  },
  {
   "attachments": {},
   "cell_type": "markdown",
   "metadata": {},
   "source": [
    "#### 2.4.3 Reveal Results\n",
    "\n",
    "We see that the result with the best results (slightly) was the sigmoid function.\n",
    "This checks out visually as well.\n",
    "We'll proceed with the data wrangling using this fit's estimates as our data choice."
   ]
  },
  {
   "cell_type": "code",
   "execution_count": null,
   "metadata": {},
   "outputs": [],
   "source": [
    "print(f'{np.round(RMSE_sigmoid,4)}: RMSE of the sigmoid function approximation')\n",
    "print(f'{np.round(RMSE_exponential,4)}: RMSE of our custom exponential function approximation')\n",
    "print(f'{np.round(RMSE_average,4)}: RMSE of the average values between two function outputs approximation')"
   ]
  },
  {
   "attachments": {},
   "cell_type": "markdown",
   "metadata": {},
   "source": [
    "## 3. Wrangle Data\n",
    "\n",
    "Now that we have a good idea of what percent of the population uses email for each year, we want to dive into our primary question:\n",
    "\n",
    "<b>What is the likelyhood of getting an email for the first time at any given year?</b>\n",
    "\n",
    "----\n",
    "\n",
    "We'll tackle this problem using a manual approach.\n",
    "In our manual compartementalized approach we'll use the following logic:\n",
    "* Start with 100 individuals without an email tracking their email status each progressive year\n",
    "* Each year, by the end of the year, the total number NumEmailed_ThisYear must equal the percert given in our sigmoid approximation for that age.\n",
    "* The probability of getting an email in a given year is the number with an email this year / number never with an email at the beginning of the year."
   ]
  },
  {
   "cell_type": "code",
   "execution_count": null,
   "metadata": {},
   "outputs": [],
   "source": [
    "# Get percent of population married at each age using our 2 line average fit.\n",
    "df = pd.DataFrame(data = np.column_stack([xs2,ys_line_sigmoid]),\\\n",
    "                columns = ['Year','PercentWithEmail'])\n",
    "\n",
    "# Ensure the negative probability values don't screw up calculations\n",
    "df.loc[0:1,'PercentWithEmail'] = 0.0\n",
    "\n",
    "# Filter to years we care about\n",
    "df = df.query('Year > 1995')"
   ]
  },
  {
   "attachments": {},
   "cell_type": "markdown",
   "metadata": {},
   "source": [
    "### 3.2 Establish Probability Related Fields"
   ]
  },
  {
   "cell_type": "code",
   "execution_count": null,
   "metadata": {},
   "outputs": [],
   "source": [
    "# Given an initial population of 1, find the percent without an email\n",
    "df['PercNoEmail'] = 1 - df['PercentWithEmail']\n",
    "\n",
    "# Grab the population of last year (only considering singles)\n",
    "df['PercNoEmail_LastYear'] = np.append(np.nan,np.array(df['PercNoEmail'][:-1]))\n",
    "\n",
    "# Find out how many people were married this year\n",
    "df['PercEmailed_ThisYear'] = df['PercNoEmail_LastYear'] - df['PercNoEmail']\n",
    "\n",
    "# Probability of first marriage this year = number married / number initially single\n",
    "df['ProbabilityOfEmail_ThisYear'] = df['PercEmailed_ThisYear'] / df['PercNoEmail_LastYear']"
   ]
  },
  {
   "attachments": {},
   "cell_type": "markdown",
   "metadata": {},
   "source": [
    "## 4. Saving"
   ]
  },
  {
   "attachments": {},
   "cell_type": "markdown",
   "metadata": {},
   "source": [
    "### 4.1 Save to .csv\n",
    "\n",
    "Note we don't use this .csv in the process, but it is interesting to have a copy of."
   ]
  },
  {
   "cell_type": "code",
   "execution_count": null,
   "metadata": {},
   "outputs": [],
   "source": [
    "# Format columns,names\n",
    "df['Year'] = df['Year'].astype(int)\n",
    "df['perc'] = df['ProbabilityOfEmail_ThisYear'].fillna(0)\n",
    "\n",
    "# Put into proper column names\n",
    "output = df[['Year','perc']]\n",
    "\n",
    "# Save to .csv file final version we'll use\n",
    "output.to_csv('../../../SupportingDocs/Email/03_Complete/ProbaEmailThisYear.csv',header=True,index=False)\n",
    "\n",
    "# Also save a wrangled version with more columns for anyone interested\n",
    "output.to_csv('../../../SupportingDocs/Email/02_Wrangled/ProbaEmailThisYear_ExtraCols.csv',header=True,index=False)\n"
   ]
  },
  {
   "attachments": {},
   "cell_type": "markdown",
   "metadata": {},
   "source": [
    "## 5. Extra Sanity Checks"
   ]
  },
  {
   "attachments": {},
   "cell_type": "markdown",
   "metadata": {},
   "source": [
    "### 5.1 See if our probabilities check out"
   ]
  },
  {
   "cell_type": "code",
   "execution_count": null,
   "metadata": {},
   "outputs": [],
   "source": [
    "# Calculate the inverse probability -> probability of staying single that year\n",
    "df['inverseProba'] = 1- df['ProbabilityOfEmail_ThisYear']\n",
    "\n",
    "# For each row (not the first for 17 year olds):\n",
    "for i in np.arange(1,len(df)):\n",
    "\n",
    "    # Find the probabilities up to that point\n",
    "    subset = df['inverseProba'].iloc[1:i+1]\n",
    "\n",
    "    # Find current row year\n",
    "    cur_year = df.iloc[i]['Year']\n",
    "\n",
    "    # Calculate product of all previous probabilies of staying single\n",
    "    starter = 100\n",
    "    for element in subset:\n",
    "        starter = starter*element\n",
    "\n",
    "    # Calc the difference between percent without and product of percent chances of leaving every previous year with no email.\n",
    "    ### Should be the same\n",
    "    difference = df.iloc[i].PercNoEmail - starter\n",
    "\n",
    "    # If they're not the same, call me a monkey's uncle.\n",
    "    if difference > 0.000000001:\n",
    "        print(f'YOU FOOL!!!!\\n At {cur_year}, difference was {difference} which is way too much!')\n"
   ]
  },
  {
   "attachments": {},
   "cell_type": "markdown",
   "metadata": {},
   "source": [
    "### 5.2 Fun Plotting"
   ]
  },
  {
   "cell_type": "code",
   "execution_count": null,
   "metadata": {},
   "outputs": [],
   "source": [
    "highest_proba = df.iloc[df['ProbabilityOfEmail_ThisYear'].argmax()]['Year']\n",
    "\n",
    "plt.plot(df['Year'], df['ProbabilityOfEmail_ThisYear'].fillna(0), label='probability')\n",
    "plt.vlines(x=highest_proba, ymin=0,ymax=0.2, colors='k',linestyles='--',label=f'max likelyhood if no email:\\nyear {int(highest_proba)}')\n",
    "plt.xlabel('Year')\n",
    "plt.ylabel('Probability (normalized to 1.0)')\n",
    "plt.title('Probability of First Email by Year')\n",
    "plt.legend(loc='upper left')\n",
    "plt.xlim(1996,2025)\n",
    "plt.ylim(0,0.2)\n",
    "plt.show()"
   ]
  },
  {
   "cell_type": "code",
   "execution_count": null,
   "metadata": {},
   "outputs": [],
   "source": [
    "plt.plot(df['Year'],df['PercentWithEmail'])\n",
    "plt.xlim(1996,2025)\n",
    "plt.ylim(0,1)\n",
    "plt.xlabel('Year')\n",
    "plt.ylabel('Percent of Population with Email')\n",
    "plt.title('Percent of Population with Email by Year')\n",
    "plt.show()"
   ]
  },
  {
   "cell_type": "code",
   "execution_count": null,
   "metadata": {},
   "outputs": [],
   "source": []
  }
 ],
 "metadata": {
  "kernelspec": {
   "display_name": "base",
   "language": "python",
   "name": "python3"
  },
  "language_info": {
   "codemirror_mode": {
    "name": "ipython",
    "version": 3
   },
   "file_extension": ".py",
   "mimetype": "text/x-python",
   "name": "python",
   "nbconvert_exporter": "python",
   "pygments_lexer": "ipython3",
   "version": "3.8.5"
  },
  "orig_nbformat": 4,
  "vscode": {
   "interpreter": {
    "hash": "dba1b3963ecad904c51a72019387ec5f41013f9e1f039a719a278521ef552db8"
   }
  }
 },
 "nbformat": 4,
 "nbformat_minor": 2
}
