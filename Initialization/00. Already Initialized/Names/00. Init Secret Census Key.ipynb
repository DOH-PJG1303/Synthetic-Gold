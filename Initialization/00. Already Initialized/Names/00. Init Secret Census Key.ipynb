{
 "cells": [
  {
   "attachments": {},
   "cell_type": "markdown",
   "metadata": {},
   "source": [
    "\n",
    "# Init Secret Census Key\n",
    "\n",
    "This script is designed to securely store your Census Bureau API Key, which is required for accessing many of the data services provided by the U.S. Census Bureau.\n",
    "\n",
    "To obtain an API key from the U.S. Census Bureau, you will need to apply at the following website: [Census Bureau API Key Signup](https://api.census.gov/data/key_signup.html).\n",
    "\n",
    "After obtaining your API key, run this script and enter your key when prompted. The script will save your key to a pickle file named `secrets.pkl`. This file should be stored securely and not shared or made publicly accessible.\n",
    "\n",
    "To ensure the file is not accidentally committed to a public GitHub repository, add the filename to your `.gitignore` file. Open the `.gitignore` file in a text editor, add a new line with `secrets.pkl`, and save the file. If your repository does not have a `.gitignore` file, you can create one.\n"
   ]
  },
  {
   "cell_type": "code",
   "execution_count": null,
   "metadata": {},
   "outputs": [],
   "source": [
    "import getpass\n",
    "import pickle\n",
    "\n",
    "# Prompt the user for their API key. The input will be hidden.\n",
    "api_key = getpass.getpass(\"Please enter your census API key:\")\n",
    "\n",
    "# Save the key to a pickle file\n",
    "with open('secrets.pkl', 'wb') as f:\n",
    "    pickle.dump(api_key, f)\n",
    "\n",
    "print(\"API key stored successfully.\")"
   ]
  },
  {
   "cell_type": "code",
   "execution_count": null,
   "metadata": {},
   "outputs": [],
   "source": []
  }
 ],
 "metadata": {
  "kernelspec": {
   "display_name": ".venv",
   "language": "python",
   "name": "python3"
  },
  "language_info": {
   "codemirror_mode": {
    "name": "ipython",
    "version": 3
   },
   "file_extension": ".py",
   "mimetype": "text/x-python",
   "name": "python",
   "nbconvert_exporter": "python",
   "pygments_lexer": "ipython3",
   "version": "3.8.5"
  },
  "orig_nbformat": 4
 },
 "nbformat": 4,
 "nbformat_minor": 2
}
