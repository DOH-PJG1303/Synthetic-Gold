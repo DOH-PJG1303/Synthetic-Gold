{
 "cells": [
  {
   "attachments": {},
   "cell_type": "markdown",
   "metadata": {},
   "source": [
    "# Pull Census Data - PUMS & Data Profiles\n",
    "\n",
    "In this notebook, we delve into the [US Census Public Use Microdata Sample (PUMS)](https://www.census.gov/programs-surveys/acs/microdata.html) dataset and the [American Community Survey (ACS) data profiles](https://www.census.gov/acs/www/data/data-tables-and-tools/data-profiles/). The Census PUMS datasets contain individual and housing unit records with anonymized data, making them incredibly useful for executing comprehensive statistical analyses on the US population. ACS data profiles complement this by providing summarized demographic, social, economic, and housing data.\n",
    "\n",
    "The notebook is organized into several sections:\n",
    "\n",
    "1. **Setup:** Import necessary libraries and define utility functions for error handling, variable validation, and processing census API responses.\n",
    "\n",
    "2. **Manual Variable Definitions:** Define key variables for API calls such as PUMS year, data source, table, and specific housing and person variables. We also specify the data profile year, data source, table, and column list.\n",
    "\n",
    "3. **Create PUMS Data Dictionary:** Query all PUMS variables to collect basic information, providing an understanding of mappings between PUMS numeric fields and their real-world interpretations.\n",
    "\n",
    "4. **Pull PUMS Housing Data:** Validate housing variables, process them, and query the PUMS API to collect all housing data.\n",
    "\n",
    "5. **Pull PUMS Person Data:** Similar to the housing data step, validate person variables, process them, and query the PUMS API to collect all person data.\n",
    "\n",
    "6. **Data Profile Data:** Process data profile variables and query for all data profile data.\n",
    "\n",
    "By leveraging this notebook, users can efficiently extract a wealth of information from the US Census API, opening up extensive possibilities for statistical analysis.\n",
    "\n",
    "---\n",
    "\n",
    "### About\n",
    "\n",
    "<p>Author: PJ Gibson</p>\n",
    "<p>Created Date: 2023-07-03</p>\n",
    "<p>Contact: peter.gibson@doh.wa.gov</p>\n",
    "<p>Assistance in the generation of this script was provided by GPT-4, a model developed by OpenAI.</p>"
   ]
  },
  {
   "attachments": {},
   "cell_type": "markdown",
   "metadata": {},
   "source": [
    "## 1. Setup\n",
    "\n",
    "### 1.1 Imports"
   ]
  },
  {
   "cell_type": "code",
   "execution_count": null,
   "metadata": {},
   "outputs": [],
   "source": [
    "# Importing necessary libraries\n",
    "import pandas as pd\n",
    "import requests\n",
    "import json\n",
    "import os"
   ]
  },
  {
   "attachments": {},
   "cell_type": "markdown",
   "metadata": {},
   "source": [
    "### 1.2 Function Definitions\n",
    "\n",
    "These functions will help streamline our code and help with code-reading."
   ]
  },
  {
   "cell_type": "code",
   "execution_count": null,
   "metadata": {},
   "outputs": [],
   "source": [
    "# Function to check the response of API calls\n",
    "def response_check(response):\n",
    "    if response.status_code == 200:\n",
    "        print(\"Success!\")\n",
    "    else:\n",
    "        raise Exception(f\"HTTP request failed with status code {response.status_code}\")\n",
    "\n",
    "# Function to query data from an API\n",
    "def query_data(api_url, params=None):\n",
    "    response = requests.get(api_url, params=params)\n",
    "    response.raise_for_status() \n",
    "    return response\n",
    "\n",
    "# Function to validate variables against available ones in the census data\n",
    "def validate_variables(variable_list, all_vars):\n",
    "    diff_vars = set(variable_list) - set(all_vars)\n",
    "    if diff_vars:\n",
    "        raise ValueError(f'Variable(s) {diff_vars} do not exist in the specified census data.')\n",
    "    print('All of your listed variables are valid')\n",
    "\n",
    "# Function to process variable values from the census data\n",
    "def process_variable_values(base_url, variable_list):\n",
    "    variable_values_store = []\n",
    "    for variable in variable_list:\n",
    "        response_variable_vals = query_data(f'{base_url}/variables/{variable}.json')\n",
    "        df_variable_vals = pd.read_json(response_variable_vals.text, typ='series')\n",
    "        variable_values_store.append(df_variable_vals)\n",
    "    df_variables_values = pd.concat(variable_values_store, axis=1).transpose()\n",
    "    df_variables_values.reset_index(inplace=True)\n",
    "    df_variables_values.rename(columns={'index':'value_type'}, inplace=True)\n",
    "    return df_variables_values"
   ]
  },
  {
   "attachments": {},
   "cell_type": "markdown",
   "metadata": {},
   "source": [
    "### 1.3 Manual variable definitions"
   ]
  },
  {
   "cell_type": "code",
   "execution_count": null,
   "metadata": {},
   "outputs": [],
   "source": [
    "# Initialization\n",
    "PUMS_year = '2019'\n",
    "PUMS_dsource = 'acs'\n",
    "PUMS_dname = 'acs5'\n",
    "PUMS_table = 'pums'\n",
    "list_PUMS_housing_vars = [\"PUMA\", \"PWGTP\", \"WGTP\", \"BDSP\", \"BLD\", \"CPLT\", \"HHT2\", \"HUGCL\", \"HUPAC\", \"LAPTOP\", \"MULTG\", \"MV\", \"NP\", \"PARTNER\", \"RMSP\", \"TYPE\", \"VACS\", \"YBL\"]\n",
    "list_PUMS_person_vars = [\"PUMA\", \"PWGTP\", \"AGEP\", \"BROADBND\", \"ENG\", \"FER\", \"FOD1P\", \"FPARC\", \"GCL\", \"MARHT\", \"MARHYP\", \"MIG\", \"POBP\", \"HISP\", \"RACAIAN\", \"RACASN\", \"RACBLK\", \"RACNH\", \"RACWHT\", \"RACSOR\", \"SCHG\", \"SCHL\", \"SEX\", \"SMARTPHONE\", \"YOEP\", \"WAOB\"]\n",
    "\n",
    "DP_year = '2019'\n",
    "DP_dsource = 'acs'\n",
    "DP_dname = 'acs5'\n",
    "DP_table = 'profile'\n",
    "wildcard = '*'\n",
    "list_DP_cols = [ \"DP04_0001E\", \"DP04_0001M\", \"DP04_0002PE\", \"DP04_0007PE\", \"DP04_0008PE\", \"DP04_0009PE\", \"DP04_0010PE\", \"DP04_0011PE\", \"DP04_0012PE\", \"DP04_0013PE\", \"DP04_0014PE\", \"DP04_0015PE\", \"DP04_0017PE\", \"DP04_0018PE\", \"DP04_0019PE\", \"DP04_0020PE\", \"DP04_0021PE\", \"DP04_0022PE\", \"DP04_0023PE\", \"DP04_0024PE\", \"DP04_0025PE\", \"DP04_0026PE\", \"DP04_0039PE\", \"DP04_0040PE\", \"DP04_0041PE\", \"DP04_0042PE\", \"DP04_0043PE\", \"DP04_0044PE\", \"DP04_0051PE\", \"DP04_0052PE\", \"DP04_0053PE\", \"DP04_0054PE\", \"DP04_0055PE\", \"DP04_0056PE\", \"DP04_0075PE\"]\n",
    "\n",
    "# IMPORTANT - the state fips you will be using\n",
    "stateFIPS = '53'"
   ]
  },
  {
   "attachments": {},
   "cell_type": "markdown",
   "metadata": {},
   "source": [
    "## 2. Create PUMS data dictionary\n",
    "\n",
    "We want to query all PUMS variables and collect some of the basic information on them.\n",
    "This will help us validate that we pulled the correct fields in subsequent API pulls.\n",
    "It also helps us understand mappings between PUMS numeric fields and their real world representations."
   ]
  },
  {
   "cell_type": "code",
   "execution_count": null,
   "metadata": {},
   "outputs": [],
   "source": [
    "# Query PUMS for all available variables\n",
    "PUMS_base = f'https://api.census.gov/data/{PUMS_year}/{PUMS_dsource}/{PUMS_dname}/{PUMS_table}'\n",
    "print('Querying PUMS for all available variables...')\n",
    "response_PUMS_vars = query_data(f'{PUMS_base}/variables.json')\n",
    "\n",
    "# Extract the 'variables' dictionary from the json response\n",
    "json_data = response_PUMS_vars.json()['variables']\n",
    "\n",
    "# Convert the dictionary to a DataFrame and transpose it to align the data\n",
    "df_PUMS_vars = pd.DataFrame(json_data).transpose()"
   ]
  },
  {
   "attachments": {},
   "cell_type": "markdown",
   "metadata": {},
   "source": [
    "## 3. Pull PUMS Housing Data"
   ]
  },
  {
   "attachments": {},
   "cell_type": "markdown",
   "metadata": {},
   "source": [
    "### 3.1 Housing Variable Data Mapping"
   ]
  },
  {
   "cell_type": "code",
   "execution_count": null,
   "metadata": {},
   "outputs": [],
   "source": [
    "# Validate housing variables\n",
    "print('Validating housing variables...')\n",
    "all_vars = df_PUMS_vars.index.tolist()\n",
    "validate_variables(list_PUMS_housing_vars, all_vars)\n",
    "\n",
    "# Process housing variables\n",
    "print('Processing housing variables...')\n",
    "df_PUMS_housing_values = process_variable_values(PUMS_base, list_PUMS_housing_vars)"
   ]
  },
  {
   "attachments": {},
   "cell_type": "markdown",
   "metadata": {},
   "source": [
    "### 3.2 Housing Data"
   ]
  },
  {
   "cell_type": "code",
   "execution_count": null,
   "metadata": {},
   "outputs": [],
   "source": [
    "#  Query housing data (not variables)\n",
    "str_cols_housing = ','.join(list_PUMS_housing_vars)\n",
    "url_PUMS_housing = f'{PUMS_base}?get={str_cols_housing}&for=state:{stateFIPS}'\n",
    "response_PUMS_housing = requests.get(url_PUMS_housing)\n",
    "print('Querying PUMS for all housing data...')\n",
    "\n",
    "# Error handling for HTTP request\n",
    "response_check(response_PUMS_housing)\n",
    "\n",
    "# Parsing the API output\n",
    "df_PUMS_housing_raw = pd.read_json(response_PUMS_housing.text)\n",
    "df_PUMS_housing_raw.columns = df_PUMS_housing_raw.iloc[0]\n",
    "df_PUMS_housing_raw = df_PUMS_housing_raw.iloc[1:]"
   ]
  },
  {
   "attachments": {},
   "cell_type": "markdown",
   "metadata": {},
   "source": [
    "## 4. Pull PUMS Person Data"
   ]
  },
  {
   "attachments": {},
   "cell_type": "markdown",
   "metadata": {},
   "source": [
    "### 4.1 Person Variable Data Mapping"
   ]
  },
  {
   "cell_type": "code",
   "execution_count": null,
   "metadata": {},
   "outputs": [],
   "source": [
    "# Validate person variables\n",
    "print('Validating person variables...')\n",
    "validate_variables(list_PUMS_person_vars, all_vars)\n",
    "\n",
    "# Process person variables\n",
    "print('Processing person variables...')\n",
    "df_PUMS_person_values = process_variable_values(PUMS_base, list_PUMS_person_vars)"
   ]
  },
  {
   "attachments": {},
   "cell_type": "markdown",
   "metadata": {},
   "source": [
    "### 4.2 Person Data"
   ]
  },
  {
   "cell_type": "code",
   "execution_count": null,
   "metadata": {},
   "outputs": [],
   "source": [
    "# Query person data\n",
    "str_cols_person = ','.join(list_PUMS_person_vars)\n",
    "url_PUMS_person = f'{PUMS_base}?get={str_cols_person}&for=state:{stateFIPS}'\n",
    "response_PUMS_person = requests.get(url_PUMS_person)\n",
    "print('Querying PUMS for all person data...')\n",
    "\n",
    "# Error handling for HTTP request\n",
    "response_check(response_PUMS_person)\n",
    "\n",
    "# Parsing the API output\n",
    "df_PUMS_person_raw = pd.read_json(response_PUMS_person.text)\n",
    "df_PUMS_person_raw.columns = df_PUMS_person_raw.iloc[0]\n",
    "df_PUMS_person_raw = df_PUMS_person_raw.iloc[1:]"
   ]
  },
  {
   "attachments": {},
   "cell_type": "markdown",
   "metadata": {},
   "source": [
    "## 5. Data Profile Data"
   ]
  },
  {
   "attachments": {},
   "cell_type": "markdown",
   "metadata": {},
   "source": [
    "### 5.1 Variable Mapping (ALL)"
   ]
  },
  {
   "cell_type": "code",
   "execution_count": null,
   "metadata": {},
   "outputs": [],
   "source": [
    "# Query PUMS for all available variables\n",
    "DP_base = f'https://api.census.gov/data/{DP_year}/{DP_dsource}/{DP_dname}/{DP_table}'\n",
    "\n",
    "print('Querying PUMS for all available variables...')\n",
    "response_DP_vars = query_data(f'{DP_base}/variables.json')\n",
    "\n",
    "# Extract the 'variables' dictionary from the json response\n",
    "json_data = response_DP_vars.json()['variables']\n",
    "\n",
    "# Convert the dictionary to a DataFrame and transpose it to align the data\n",
    "df_DP_vars = pd.DataFrame(json_data).transpose()"
   ]
  },
  {
   "attachments": {},
   "cell_type": "markdown",
   "metadata": {},
   "source": [
    "### 5.2 Variable Mapping (subset)"
   ]
  },
  {
   "cell_type": "code",
   "execution_count": null,
   "metadata": {},
   "outputs": [],
   "source": [
    "# Validate housing variables\n",
    "print('Validating Data Profile variables...')\n",
    "all_index_vars = list(df_DP_vars.index.tolist())\n",
    "additional_DP_vars = list(df_DP_vars['attributes'].str.split(',\\s?',expand=True).to_numpy().flatten())\n",
    "all_vars = all_index_vars + additional_DP_vars\n",
    "validate_variables(list_DP_cols, all_vars)\n",
    "\n",
    "\n",
    "# Process housing variables\n",
    "print('Processing housing variables...')\n",
    "df_DP_housing_values = process_variable_values(DP_base, list_DP_cols)"
   ]
  },
  {
   "attachments": {},
   "cell_type": "markdown",
   "metadata": {},
   "source": [
    "### 5.3 Person Data"
   ]
  },
  {
   "cell_type": "code",
   "execution_count": null,
   "metadata": {},
   "outputs": [],
   "source": [
    "# Query person data\n",
    "str_DP_cols = ','.join(list_DP_cols)\n",
    "url_DP_person = f'{DP_base}?for=zip%20code%20tabulation%20area:{wildcard}&get={str_DP_cols}&in=state:{stateFIPS}'\n",
    "response_DP_person = requests.get(url_DP_person)\n",
    "print('Querying Data Profiles for all person data...')\n",
    "\n",
    "# Error handling for HTTP request\n",
    "response_check(response_DP_person)\n",
    "\n",
    "# Parsing the API output\n",
    "df_DP_person_raw = pd.read_json(response_DP_person.text)\n",
    "df_DP_person_raw.columns = df_DP_person_raw.iloc[0]\n",
    "df_DP_person_raw = df_DP_person_raw.iloc[1:]"
   ]
  },
  {
   "attachments": {},
   "cell_type": "markdown",
   "metadata": {},
   "source": [
    "## 6. Save"
   ]
  },
  {
   "cell_type": "code",
   "execution_count": null,
   "metadata": {},
   "outputs": [],
   "source": [
    "dir_raw = '../../SupportingDocs/Housing/01_Raw'\n",
    "\n",
    "os.makedirs(dir_raw, exist_ok=True)"
   ]
  },
  {
   "attachments": {},
   "cell_type": "markdown",
   "metadata": {},
   "source": [
    "### 6.1 PUMS data"
   ]
  },
  {
   "cell_type": "code",
   "execution_count": null,
   "metadata": {},
   "outputs": [],
   "source": [
    "df_PUMS_vars.to_csv(f'{dir_raw}/PUMS_all_variables.csv',index=False)\n",
    "\n",
    "df_PUMS_housing_values.to_csv(f'{dir_raw}/PUMS_housing_variable_mappings.csv',index=False)\n",
    "df_PUMS_housing_raw.to_csv(f'{dir_raw}/PUMS_housing_data.csv',index=False)\n",
    "\n",
    "df_PUMS_person_values.to_csv(f'{dir_raw}/PUMS_person_variable_mappings.csv',index=False)\n",
    "df_PUMS_person_raw.to_csv(f'{dir_raw}/PUMS_person_data.csv',index=False)"
   ]
  },
  {
   "attachments": {},
   "cell_type": "markdown",
   "metadata": {},
   "source": [
    "### 6.2 Data Profile Data"
   ]
  },
  {
   "cell_type": "code",
   "execution_count": null,
   "metadata": {},
   "outputs": [],
   "source": [
    "df_DP_vars.to_csv(f'{dir_raw}/DP_all_variables.csv',index=False)\n",
    "df_DP_housing_values.to_csv(f'{dir_raw}/DP_housing_variable_mappings.csv',index=False)\n",
    "df_DP_person_raw.to_csv(f'{dir_raw}/DP_housing_data.csv',index=False)"
   ]
  },
  {
   "cell_type": "code",
   "execution_count": null,
   "metadata": {},
   "outputs": [],
   "source": []
  }
 ],
 "metadata": {
  "kernelspec": {
   "display_name": ".venv",
   "language": "python",
   "name": "python3"
  },
  "language_info": {
   "codemirror_mode": {
    "name": "ipython",
    "version": 3
   },
   "file_extension": ".py",
   "mimetype": "text/x-python",
   "name": "python",
   "nbconvert_exporter": "python",
   "pygments_lexer": "ipython3",
   "version": "3.8.5"
  },
  "orig_nbformat": 4
 },
 "nbformat": 4,
 "nbformat_minor": 2
}
