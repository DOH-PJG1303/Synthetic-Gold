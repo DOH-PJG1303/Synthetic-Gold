{
 "cells": [
  {
   "cell_type": "markdown",
   "metadata": {
    "application/vnd.databricks.v1+cell": {
     "cellMetadata": {},
     "inputWidgets": {},
     "nuid": "f24936d6-45a5-445e-9c2b-d33b3fd09749",
     "showTitle": false,
     "title": ""
    }
   },
   "source": [
    "# Housing Data Wrangling\n",
    "\n",
    "This script performs data cleaning and mapping operations on housing data for analysis. The dataset originates from the U.S. Census Bureau's Public Use Microdata Sample (PUMS). The script includes steps for:\n",
    "\n",
    "1. Cleaning raw data.\n",
    "1. Cleaning mapping data.\n",
    "1. Mapping fields from the raw data based on the cleaned mapping data.\n",
    "1. Further cleaning of mapped fields.\n",
    "1. Duplicating each row based on the number of houses it represents.\n",
    "1. Merging duplicated IDs back to the original data and assigning new IDs.\n",
    "1. Filtering only the necessary columns for downstream analysis."
   ]
  },
  {
   "cell_type": "markdown",
   "metadata": {
    "application/vnd.databricks.v1+cell": {
     "cellMetadata": {},
     "inputWidgets": {},
     "nuid": "2b2f4e8f-9fad-4f3f-8eb9-5a96e91f2611",
     "showTitle": false,
     "title": ""
    }
   },
   "source": [
    "## 1. Import Required Libraries"
   ]
  },
  {
   "cell_type": "code",
   "execution_count": null,
   "metadata": {
    "application/vnd.databricks.v1+cell": {
     "cellMetadata": {
      "byteLimit": 2048000,
      "rowLimit": 10000
     },
     "inputWidgets": {},
     "nuid": "3e7fe505-d4ec-4b4e-a321-d8c6367d4a30",
     "showTitle": false,
     "title": ""
    }
   },
   "outputs": [],
   "source": [
    "import pandas as pd\n",
    "import numpy as np\n",
    "import json\n",
    "import os"
   ]
  },
  {
   "cell_type": "markdown",
   "metadata": {
    "application/vnd.databricks.v1+cell": {
     "cellMetadata": {},
     "inputWidgets": {},
     "nuid": "ecb07ba9-921f-4e44-8e79-1fa6038fcbcc",
     "showTitle": false,
     "title": ""
    }
   },
   "source": [
    "## 2. Define Functions"
   ]
  },
  {
   "cell_type": "markdown",
   "metadata": {
    "application/vnd.databricks.v1+cell": {
     "cellMetadata": {},
     "inputWidgets": {},
     "nuid": "69bfc840-2ca1-4da8-ad75-798f0856cf85",
     "showTitle": false,
     "title": ""
    }
   },
   "source": [
    "### 2.1. Clean Raw Data"
   ]
  },
  {
   "cell_type": "code",
   "execution_count": null,
   "metadata": {
    "application/vnd.databricks.v1+cell": {
     "cellMetadata": {},
     "inputWidgets": {},
     "nuid": "b86d02f9-68dd-4ce3-8962-d37d804ed4ab",
     "showTitle": false,
     "title": ""
    }
   },
   "outputs": [],
   "source": [
    "# Clean raw data\n",
    "def clean_raw_data(df):\n",
    "    \n",
    "    \"\"\"Cleans the raw data by padding zeros, replacing values and adding new columns.\"\"\"\n",
    "\n",
    "    # Pad leading zeros unless it's '00'\n",
    "    for column in ['BLD', 'HHT2', 'YBL']:\n",
    "        df[column] = df[column].astype(str).str.zfill(2).str.replace('00','0')\n",
    "\n",
    "    # Update GQ records weights\n",
    "    for column in ['WGTP', 'PWGTP']:\n",
    "        df[column] = df[column].replace(0, 1)\n",
    "\n",
    "    # Pad leading zeros for PUMA\n",
    "    df['PUMA'] = df['PUMA'].astype(str).str.zfill(5)\n",
    "    \n",
    "    # Add new columns\n",
    "    df['num_houses'] = df['WGTP'].astype(int) / df['NP'].astype(int)\n",
    "    df['num_houses_rounded_up'] = np.ceil(df['num_houses'])\n",
    "\n",
    "    # Reset index for unique ID\n",
    "    df.reset_index(inplace=True)\n",
    "\n",
    "    return df"
   ]
  },
  {
   "cell_type": "markdown",
   "metadata": {
    "application/vnd.databricks.v1+cell": {
     "cellMetadata": {},
     "inputWidgets": {},
     "nuid": "f9c318d5-9b31-4d2e-ba91-d382b6fb0ec1",
     "showTitle": false,
     "title": ""
    }
   },
   "source": [
    "### 2.2. Clean Mapping Data"
   ]
  },
  {
   "cell_type": "code",
   "execution_count": null,
   "metadata": {
    "application/vnd.databricks.v1+cell": {
     "cellMetadata": {},
     "inputWidgets": {},
     "nuid": "c3303f67-42e2-46f8-9346-11a8e726245a",
     "showTitle": false,
     "title": ""
    }
   },
   "outputs": [],
   "source": [
    "def clean_mapping_data(df):\n",
    "\n",
    "    \"\"\"Cleans the mapping data by parsing out item and range fields from values.\"\"\"\n",
    "\n",
    "    # Clean up the values field, parse out\n",
    "    df['values'] = df['values'].apply(lambda x: eval(x) if isinstance(x, str) else x)\n",
    "    df['item'] = df['values'].apply(lambda x: x.get('item'))\n",
    "    df['range'] = df['values'].apply(lambda x: x.get('range'))\n",
    "\n",
    "    return df"
   ]
  },
  {
   "cell_type": "markdown",
   "metadata": {
    "application/vnd.databricks.v1+cell": {
     "cellMetadata": {},
     "inputWidgets": {},
     "nuid": "ff9fa46f-b708-4e85-8bbe-a4f6ddda2b9a",
     "showTitle": false,
     "title": ""
    }
   },
   "source": [
    "### 2.3. Field Mapping"
   ]
  },
  {
   "cell_type": "code",
   "execution_count": null,
   "metadata": {
    "application/vnd.databricks.v1+cell": {
     "cellMetadata": {},
     "inputWidgets": {},
     "nuid": "32087102-ec8e-4c68-b47f-65ea88e4739b",
     "showTitle": false,
     "title": ""
    }
   },
   "outputs": [],
   "source": [
    "def field_mapping(df, df_mapping):\n",
    "\n",
    "    \"\"\"Using mapping data, apply mapping to the raw data elements\"\"\"\n",
    "\n",
    "    # Filter dataframe containing mappings\n",
    "    df_allmaps = df_mapping.loc[~df_mapping['item'].isna()]\n",
    "\n",
    "    # Apply each mapping\n",
    "    for i in range(len(df_allmaps)):\n",
    "        row = df_allmaps.iloc[i]\n",
    "        cur_colname = row['name']\n",
    "        cur_new_colname = f'map_{cur_colname}'\n",
    "        cur_map = json.loads(str(row['item']).replace('\\'', '\\\"'))\n",
    "\n",
    "        # Add mapped values as new column\n",
    "        df[cur_new_colname] = df[cur_colname].astype(str).replace(cur_map)\n",
    "\n",
    "    return df"
   ]
  },
  {
   "cell_type": "markdown",
   "metadata": {
    "application/vnd.databricks.v1+cell": {
     "cellMetadata": {},
     "inputWidgets": {},
     "nuid": "1f114f69-e80e-4677-9c26-c4d2f7edfa70",
     "showTitle": false,
     "title": ""
    }
   },
   "source": [
    "### 2.4. Clean Mapped Fields"
   ]
  },
  {
   "cell_type": "code",
   "execution_count": null,
   "metadata": {
    "application/vnd.databricks.v1+cell": {
     "cellMetadata": {},
     "inputWidgets": {},
     "nuid": "29f395d1-c12a-41d2-bba4-5536d0aa4981",
     "showTitle": false,
     "title": ""
    }
   },
   "outputs": [],
   "source": [
    "def clean_mapped_fields(df):\n",
    "\n",
    "    \"\"\"Creates a list of multiplicated IDs based on the number of houses a record represents.\"\"\"\n",
    "\n",
    "    # Year Built cleanup\n",
    "    df['map_YBL'] = df['map_YBL'].str.replace('N/A \\(GQ\\)', '', regex=True)\n",
    "    df['map_YBL'] = df['map_YBL'].str.replace('1939 or earlier', '1900 to 1939', regex=True)\n",
    "    df[['YBL_range_start','YBL_range_end']] = df['map_YBL'].str.split('(to|or)', expand=True)[[0,2]]\n",
    "    df = df.replace('', np.nan, regex=True)\n",
    "    df['YBL_range_start'] = df['YBL_range_start'].astype(float).astype(\"Int64\")\n",
    "    df['YBL_range_end'] = df['YBL_range_end'].astype(float).astype(\"Int64\")\n",
    "\n",
    "    # Mapping boundaries for each building type\n",
    "    map_building_to_unit_boundaries ={\n",
    "        \"One-family house detached\":\"1\",\n",
    "        \"50 or More Apartments\":\"50 250\",\n",
    "        \"Mobile Home or Trailer\":\"1 250\",\n",
    "        \"10-19 Apartments\":\"10 19\",\n",
    "        \"5-9 Apartments\":\"5 9\",\n",
    "        \"20-49 Apartments\":\"20 49\",\n",
    "        \"One-family house attached\":\"1\",\n",
    "        \"3-4 Apartments\":\"3 4\",\n",
    "        \"2 Apartments\":\"2\",\n",
    "        \"N/A (GQ)\":\"\",\n",
    "        \"Boat, RV, van, etc.\":\"1\"\n",
    "    }\n",
    "\n",
    "    # Apply mapping\n",
    "    df['map_BLD2'] = df['map_BLD'].replace(map_building_to_unit_boundaries, regex=False)\n",
    "    df[['BLD_range_start','BLD_range_end']] = df['map_BLD2'].str.split(' ', expand=True)[[0,1]]\n",
    "    df[['BLD_range_start','BLD_range_end']] = df[['BLD_range_start','BLD_range_end']].replace('',None)\n",
    "    df['BLD_range_start'] = df['BLD_range_start'].astype(float).astype(\"Int64\")\n",
    "    df['BLD_range_end'] = df['BLD_range_end'].astype(float).astype(\"Int64\")\n",
    "\n",
    "    # Convert WGTP to integer\n",
    "    df['WGTP'] = df['WGTP'].astype(int)\n",
    "\n",
    "    return df"
   ]
  },
  {
   "cell_type": "markdown",
   "metadata": {
    "application/vnd.databricks.v1+cell": {
     "cellMetadata": {},
     "inputWidgets": {},
     "nuid": "aa2e0f89-c4a3-4fd3-a522-7509f3654339",
     "showTitle": false,
     "title": ""
    }
   },
   "source": [
    "### 2.5. Create Multiplicated IDs"
   ]
  },
  {
   "cell_type": "code",
   "execution_count": null,
   "metadata": {
    "application/vnd.databricks.v1+cell": {
     "cellMetadata": {},
     "inputWidgets": {},
     "nuid": "3b703ce0-bb68-41d0-a3de-e6605d65d41e",
     "showTitle": false,
     "title": ""
    }
   },
   "outputs": [],
   "source": [
    "def create_multiplicated_ids(df, multiplicative_surplus_value):\n",
    "\n",
    "    \"\"\"Creates a list of multiplicated IDs based on the number of houses a record represents.\"\"\"\n",
    "    \n",
    "    df = df.copy().query('TYPE == 1')\n",
    "    list_multiplicated_ids = []\n",
    "    \n",
    "    for _, row in df.iterrows():\n",
    "        list_multiplicated_ids.append([row['index']] * int(row['num_houses_rounded_up'] * multiplicative_surplus_value))\n",
    "    \n",
    "    list_flattened_multiplicated_ids = [item for sublist in list_multiplicated_ids for item in sublist]\n",
    "    series_flattened_multiplicated_ids = pd.Series(list_flattened_multiplicated_ids).rename('indexes')\n",
    "    \n",
    "    return series_flattened_multiplicated_ids"
   ]
  },
  {
   "cell_type": "markdown",
   "metadata": {
    "application/vnd.databricks.v1+cell": {
     "cellMetadata": {},
     "inputWidgets": {},
     "nuid": "335aa214-5bac-4958-84cb-4b4d69b8fd2f",
     "showTitle": false,
     "title": ""
    }
   },
   "source": [
    "### 2.6. Join Multiplicated IDs to Data"
   ]
  },
  {
   "cell_type": "code",
   "execution_count": null,
   "metadata": {
    "application/vnd.databricks.v1+cell": {
     "cellMetadata": {},
     "inputWidgets": {},
     "nuid": "647ca0bc-d526-4f05-aa9d-bf698eeeefbf",
     "showTitle": false,
     "title": ""
    }
   },
   "outputs": [],
   "source": [
    "def join_multiplicated_ids(df, series):\n",
    "\n",
    "    \"\"\"Merges the multiplicated IDs back to the original data and assigns new IDs.\"\"\"\n",
    "    \n",
    "    df = df.merge(series, how = 'outer', left_on = 'index', right_on = 'indexes')\n",
    "    df = df.reset_index().rename(columns={'level_0':'house_id'})\n",
    "    return df"
   ]
  },
  {
   "cell_type": "markdown",
   "metadata": {
    "application/vnd.databricks.v1+cell": {
     "cellMetadata": {},
     "inputWidgets": {},
     "nuid": "a64e6030-2c8b-4d7b-aad0-f664adab02ca",
     "showTitle": false,
     "title": ""
    }
   },
   "source": [
    "### 2.7. Filter Important Columns"
   ]
  },
  {
   "cell_type": "code",
   "execution_count": null,
   "metadata": {
    "application/vnd.databricks.v1+cell": {
     "cellMetadata": {},
     "inputWidgets": {},
     "nuid": "d5dfd7d1-1b86-426b-96bf-b2898dc69acc",
     "showTitle": false,
     "title": ""
    }
   },
   "outputs": [],
   "source": [
    "def filter_important_columns(df):\n",
    "\n",
    "    \"\"\"Filters only the necessary columns for downstream analysis.\"\"\"\n",
    "\n",
    "    list_important_cols = [\n",
    "        'house_id',\n",
    "        'PUMA',\n",
    "        'BDSP',\n",
    "        'BLD',\n",
    "        'RMSP',\n",
    "        'TYPE',\n",
    "        'YBL',\n",
    "        'map_BLD',\n",
    "        'BLD_range_start',\n",
    "        'BLD_range_end',\n",
    "        'map_YBL',\n",
    "        'YBL_range_start',\n",
    "        'YBL_range_end'\n",
    "    ]\n",
    "    return df[list_important_cols]\n"
   ]
  },
  {
   "cell_type": "markdown",
   "metadata": {
    "application/vnd.databricks.v1+cell": {
     "cellMetadata": {},
     "inputWidgets": {},
     "nuid": "1e698a58-503f-4cee-957c-576f48e63ba4",
     "showTitle": false,
     "title": ""
    }
   },
   "source": [
    "## 3. Load Data"
   ]
  },
  {
   "cell_type": "code",
   "execution_count": null,
   "metadata": {
    "application/vnd.databricks.v1+cell": {
     "cellMetadata": {},
     "inputWidgets": {},
     "nuid": "46ee3c83-e8af-42b1-8c85-447b3e0f3ddb",
     "showTitle": false,
     "title": ""
    }
   },
   "outputs": [],
   "source": [
    "df_raw = pd.read_csv(f'../../SupportingDocs/Housing/01_Raw/PUMS_housing_data.csv')\n",
    "df_mapping = pd.read_csv(f'../../SupportingDocs/Housing/01_Raw/PUMS_housing_variable_mappings.csv')"
   ]
  },
  {
   "cell_type": "markdown",
   "metadata": {
    "application/vnd.databricks.v1+cell": {
     "cellMetadata": {},
     "inputWidgets": {},
     "nuid": "2d7f5ffa-1f35-4eb7-be96-1b24cac496a2",
     "showTitle": false,
     "title": ""
    }
   },
   "source": [
    "## 4. Perform Cleaning and Mapping"
   ]
  },
  {
   "cell_type": "code",
   "execution_count": null,
   "metadata": {
    "application/vnd.databricks.v1+cell": {
     "cellMetadata": {},
     "inputWidgets": {},
     "nuid": "32bf42d9-b63d-4b0d-9c12-a7a99c52c315",
     "showTitle": false,
     "title": ""
    }
   },
   "outputs": [],
   "source": [
    "df_raw_cleaned = clean_raw_data(df_raw)\n",
    "df_mapping_cleaned = clean_mapping_data(df_mapping)\n",
    "df_mapped = field_mapping(df_raw_cleaned, df_mapping_cleaned)\n",
    "df_mapped_clean = clean_mapped_fields(df_mapped)"
   ]
  },
  {
   "cell_type": "markdown",
   "metadata": {
    "application/vnd.databricks.v1+cell": {
     "cellMetadata": {},
     "inputWidgets": {},
     "nuid": "7dda4e1b-2561-41c1-8cb8-515882a73314",
     "showTitle": false,
     "title": ""
    }
   },
   "source": [
    "## 5. Perform Row Duplication\n",
    "\n",
    "#### Why Duplicate Rows?\n",
    "\n",
    "The duplication of rows in our dataset is a critical step in achieving a 1:1 relationship between each record and a house. Here's why:\n",
    "\n",
    "The PUMS (Public Use Microdata Sample) data we have comes in a form where a single record doesn't necessarily represent a single house. This is because the dataset comes with associated weights and various other fields such as the number of people living in the house.\n",
    "\n",
    "Let's consider an example to illustrate this:\n",
    "\n",
    "Imagine a PUMS record describes a two-bedroom apartment with a housing weight of 200. If we assume that the number of people in the house is 4, the number of houses that this record represents is computed as: \n",
    "   \n",
    "   `NumberRepresentedHouses = Housing Weight / Number Of People In House`\n",
    "   \n",
    "which in this case equals 50. This means that this one row stands for 50 similar houses (two-bedroom apartments occupied by 4 people).\n",
    "\n",
    "Therefore, to reach our aim of making one row correspond to one house, we need to duplicate each record by the number of houses it represents.\n",
    "\n",
    "By doing this, we effectively \"flatten\" our data. This simplifies our downstream analysis because we can now make direct, house-to-house comparisons using our data. This wouldn't be possible without this duplication step due to the weighted nature of the PUMS data.\n",
    "\n",
    "As a cautionary note, duplicating rows increases the size of our data. Therefore, it's essential to ensure that your environment has enough memory to handle the increased data size."
   ]
  },
  {
   "cell_type": "code",
   "execution_count": null,
   "metadata": {
    "application/vnd.databricks.v1+cell": {
     "cellMetadata": {},
     "inputWidgets": {},
     "nuid": "3fedd268-c202-4464-aaa5-c744605af4cf",
     "showTitle": false,
     "title": ""
    }
   },
   "outputs": [],
   "source": [
    "series_multiplicated_ids = create_multiplicated_ids(df_mapped_clean, multiplicative_surplus_value=2)\n",
    "df_joined = join_multiplicated_ids(df_mapped_clean, series_multiplicated_ids)"
   ]
  },
  {
   "cell_type": "markdown",
   "metadata": {
    "application/vnd.databricks.v1+cell": {
     "cellMetadata": {},
     "inputWidgets": {},
     "nuid": "4735d2ee-86f9-4c3c-971c-a743b6a33424",
     "showTitle": false,
     "title": ""
    }
   },
   "source": [
    "## 6. Filter Columns and Prepare for Analysis"
   ]
  },
  {
   "cell_type": "code",
   "execution_count": null,
   "metadata": {
    "application/vnd.databricks.v1+cell": {
     "cellMetadata": {},
     "inputWidgets": {},
     "nuid": "c725780d-a51a-4236-a583-d6516f2c015f",
     "showTitle": false,
     "title": ""
    }
   },
   "outputs": [],
   "source": [
    "df_filtered = filter_important_columns(df_joined)"
   ]
  },
  {
   "cell_type": "markdown",
   "metadata": {
    "application/vnd.databricks.v1+cell": {
     "cellMetadata": {},
     "inputWidgets": {},
     "nuid": "38ff6f11-09a8-484a-9b54-a890c36e9566",
     "showTitle": false,
     "title": ""
    }
   },
   "source": [
    "## 7. Save"
   ]
  },
  {
   "cell_type": "code",
   "execution_count": null,
   "metadata": {
    "application/vnd.databricks.v1+cell": {
     "cellMetadata": {},
     "inputWidgets": {},
     "nuid": "57f1179f-9d40-4e38-b89d-463b9f2c390e",
     "showTitle": false,
     "title": ""
    }
   },
   "outputs": [],
   "source": [
    "dir_wrangled = '../../SupportingDocs/Housing/02_Wrangled'\n",
    "\n",
    "os.makedirs(dir_wrangled, exist_ok=True)"
   ]
  },
  {
   "cell_type": "code",
   "execution_count": null,
   "metadata": {
    "application/vnd.databricks.v1+cell": {
     "cellMetadata": {},
     "inputWidgets": {},
     "nuid": "208fb3c3-9bca-4875-a546-e645d3e9da4b",
     "showTitle": false,
     "title": ""
    }
   },
   "outputs": [],
   "source": [
    "df_filtered.to_csv(f'{dir_wrangled}/PUMS_housing_1to1.csv',index=False)"
   ]
  },
  {
   "cell_type": "code",
   "execution_count": null,
   "metadata": {
    "application/vnd.databricks.v1+cell": {
     "cellMetadata": {},
     "inputWidgets": {},
     "nuid": "ecd8da09-fb18-4291-bcf2-2204eadbd7f5",
     "showTitle": false,
     "title": ""
    }
   },
   "outputs": [],
   "source": []
  }
 ],
 "metadata": {
  "application/vnd.databricks.v1+notebook": {
   "dashboards": [],
   "language": "python",
   "notebookMetadata": {
    "pythonIndentUnit": 2
   },
   "notebookName": "03. Wrangle Census Data",
   "widgets": {}
  },
  "kernelspec": {
   "display_name": ".venv",
   "language": "python",
   "name": "python3"
  },
  "language_info": {
   "codemirror_mode": {
    "name": "ipython",
    "version": 3
   },
   "file_extension": ".py",
   "mimetype": "text/x-python",
   "name": "python",
   "nbconvert_exporter": "python",
   "pygments_lexer": "ipython3",
   "version": "3.8.5"
  },
  "orig_nbformat": 4
 },
 "nbformat": 4,
 "nbformat_minor": 0
}
